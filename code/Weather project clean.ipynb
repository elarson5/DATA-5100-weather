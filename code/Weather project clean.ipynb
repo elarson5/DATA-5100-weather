{
 "cells": [
  {
   "cell_type": "code",
   "execution_count": 113,
   "id": "d3316743-713d-4bb2-9e35-db6a8ddfd92c",
   "metadata": {},
   "outputs": [],
   "source": [
    "#Load and explore the Data"
   ]
  },
  {
   "cell_type": "code",
   "execution_count": null,
   "id": "72757550-3662-4f4b-b33e-4845af7e9214",
   "metadata": {},
   "outputs": [],
   "source": []
  },
  {
   "cell_type": "code",
   "execution_count": 1,
   "id": "dea5ce7a-5f9c-44c3-a53b-41b76e9a56be",
   "metadata": {},
   "outputs": [],
   "source": [
    "import pandas as pd\n",
    "import numpy as np\n",
    "import matplotlib.pyplot as plt"
   ]
  },
  {
   "cell_type": "code",
   "execution_count": 2,
   "id": "b9002917-ee2e-4a08-a040-c7c1125e040e",
   "metadata": {},
   "outputs": [],
   "source": [
    "import seaborn as sns"
   ]
  },
  {
   "cell_type": "code",
   "execution_count": 3,
   "id": "d7234100-e5ff-4bb4-b322-cdc238e7d9a9",
   "metadata": {},
   "outputs": [],
   "source": [
    "sns.set_style(\"whitegrid\")"
   ]
  },
  {
   "cell_type": "code",
   "execution_count": 4,
   "id": "538b7d07-b7a0-419c-b7c0-1fd552405303",
   "metadata": {},
   "outputs": [],
   "source": [
    "df_seattle = pd.read_csv('https://raw.githubusercontent.com/elarson5/DATA-5100-weather/main/data/seattle_rain.csv')"
   ]
  },
  {
   "cell_type": "code",
   "execution_count": 5,
   "id": "54d0a932-519d-42a3-80fd-78efeb95674e",
   "metadata": {},
   "outputs": [
    {
     "data": {
      "text/plain": [
       "pandas.core.frame.DataFrame"
      ]
     },
     "execution_count": 5,
     "metadata": {},
     "output_type": "execute_result"
    }
   ],
   "source": [
    "type(df_seattle)"
   ]
  },
  {
   "cell_type": "code",
   "execution_count": 6,
   "id": "341ec94a-7869-4b16-a149-eb74616514e8",
   "metadata": {},
   "outputs": [],
   "source": [
    "df_quebec = pd.read_csv('https://raw.githubusercontent.com/elarson5/DATA-5100-weather/main/data/quebec_rain.csv')"
   ]
  },
  {
   "cell_type": "code",
   "execution_count": 7,
   "id": "3592bf28-6711-4ad4-bf04-6dd780d382b9",
   "metadata": {},
   "outputs": [
    {
     "data": {
      "text/html": [
       "<div>\n",
       "<style scoped>\n",
       "    .dataframe tbody tr th:only-of-type {\n",
       "        vertical-align: middle;\n",
       "    }\n",
       "\n",
       "    .dataframe tbody tr th {\n",
       "        vertical-align: top;\n",
       "    }\n",
       "\n",
       "    .dataframe thead th {\n",
       "        text-align: right;\n",
       "    }\n",
       "</style>\n",
       "<table border=\"1\" class=\"dataframe\">\n",
       "  <thead>\n",
       "    <tr style=\"text-align: right;\">\n",
       "      <th></th>\n",
       "      <th>STATION</th>\n",
       "      <th>NAME</th>\n",
       "      <th>DATE</th>\n",
       "      <th>DAPR</th>\n",
       "      <th>MDPR</th>\n",
       "      <th>PRCP</th>\n",
       "      <th>SNOW</th>\n",
       "      <th>SNWD</th>\n",
       "      <th>WESD</th>\n",
       "      <th>WESF</th>\n",
       "    </tr>\n",
       "  </thead>\n",
       "  <tbody>\n",
       "    <tr>\n",
       "      <th>0</th>\n",
       "      <td>US1WAKG0225</td>\n",
       "      <td>SEATTLE 2.1 ESE, WA US</td>\n",
       "      <td>1/1/18</td>\n",
       "      <td>NaN</td>\n",
       "      <td>NaN</td>\n",
       "      <td>0.00</td>\n",
       "      <td>NaN</td>\n",
       "      <td>NaN</td>\n",
       "      <td>NaN</td>\n",
       "      <td>NaN</td>\n",
       "    </tr>\n",
       "    <tr>\n",
       "      <th>1</th>\n",
       "      <td>US1WAKG0225</td>\n",
       "      <td>SEATTLE 2.1 ESE, WA US</td>\n",
       "      <td>1/2/18</td>\n",
       "      <td>NaN</td>\n",
       "      <td>NaN</td>\n",
       "      <td>0.00</td>\n",
       "      <td>NaN</td>\n",
       "      <td>NaN</td>\n",
       "      <td>NaN</td>\n",
       "      <td>NaN</td>\n",
       "    </tr>\n",
       "    <tr>\n",
       "      <th>2</th>\n",
       "      <td>US1WAKG0225</td>\n",
       "      <td>SEATTLE 2.1 ESE, WA US</td>\n",
       "      <td>1/3/18</td>\n",
       "      <td>NaN</td>\n",
       "      <td>NaN</td>\n",
       "      <td>0.00</td>\n",
       "      <td>NaN</td>\n",
       "      <td>NaN</td>\n",
       "      <td>NaN</td>\n",
       "      <td>NaN</td>\n",
       "    </tr>\n",
       "    <tr>\n",
       "      <th>3</th>\n",
       "      <td>US1WAKG0225</td>\n",
       "      <td>SEATTLE 2.1 ESE, WA US</td>\n",
       "      <td>1/4/18</td>\n",
       "      <td>NaN</td>\n",
       "      <td>NaN</td>\n",
       "      <td>0.00</td>\n",
       "      <td>NaN</td>\n",
       "      <td>NaN</td>\n",
       "      <td>NaN</td>\n",
       "      <td>NaN</td>\n",
       "    </tr>\n",
       "    <tr>\n",
       "      <th>4</th>\n",
       "      <td>US1WAKG0225</td>\n",
       "      <td>SEATTLE 2.1 ESE, WA US</td>\n",
       "      <td>1/5/18</td>\n",
       "      <td>NaN</td>\n",
       "      <td>NaN</td>\n",
       "      <td>0.25</td>\n",
       "      <td>NaN</td>\n",
       "      <td>NaN</td>\n",
       "      <td>NaN</td>\n",
       "      <td>NaN</td>\n",
       "    </tr>\n",
       "  </tbody>\n",
       "</table>\n",
       "</div>"
      ],
      "text/plain": [
       "       STATION                    NAME    DATE  DAPR  MDPR  PRCP  SNOW  SNWD  \\\n",
       "0  US1WAKG0225  SEATTLE 2.1 ESE, WA US  1/1/18   NaN   NaN  0.00   NaN   NaN   \n",
       "1  US1WAKG0225  SEATTLE 2.1 ESE, WA US  1/2/18   NaN   NaN  0.00   NaN   NaN   \n",
       "2  US1WAKG0225  SEATTLE 2.1 ESE, WA US  1/3/18   NaN   NaN  0.00   NaN   NaN   \n",
       "3  US1WAKG0225  SEATTLE 2.1 ESE, WA US  1/4/18   NaN   NaN  0.00   NaN   NaN   \n",
       "4  US1WAKG0225  SEATTLE 2.1 ESE, WA US  1/5/18   NaN   NaN  0.25   NaN   NaN   \n",
       "\n",
       "   WESD  WESF  \n",
       "0   NaN   NaN  \n",
       "1   NaN   NaN  \n",
       "2   NaN   NaN  \n",
       "3   NaN   NaN  \n",
       "4   NaN   NaN  "
      ]
     },
     "execution_count": 7,
     "metadata": {},
     "output_type": "execute_result"
    }
   ],
   "source": [
    "df_seattle.head()"
   ]
  },
  {
   "cell_type": "code",
   "execution_count": 8,
   "id": "60cd8277-53c5-4343-b21c-a9e82b38ef6f",
   "metadata": {},
   "outputs": [
    {
     "data": {
      "text/html": [
       "<div>\n",
       "<style scoped>\n",
       "    .dataframe tbody tr th:only-of-type {\n",
       "        vertical-align: middle;\n",
       "    }\n",
       "\n",
       "    .dataframe tbody tr th {\n",
       "        vertical-align: top;\n",
       "    }\n",
       "\n",
       "    .dataframe thead th {\n",
       "        text-align: right;\n",
       "    }\n",
       "</style>\n",
       "<table border=\"1\" class=\"dataframe\">\n",
       "  <thead>\n",
       "    <tr style=\"text-align: right;\">\n",
       "      <th></th>\n",
       "      <th>STATION</th>\n",
       "      <th>NAME</th>\n",
       "      <th>DATE</th>\n",
       "      <th>DAPR</th>\n",
       "      <th>MDPR</th>\n",
       "      <th>PRCP</th>\n",
       "      <th>SNOW</th>\n",
       "      <th>SNWD</th>\n",
       "    </tr>\n",
       "  </thead>\n",
       "  <tbody>\n",
       "    <tr>\n",
       "      <th>0</th>\n",
       "      <td>CA1PE000010</td>\n",
       "      <td>NEW LONDON 1.6 ENE, PE CA</td>\n",
       "      <td>2018-01-01</td>\n",
       "      <td>NaN</td>\n",
       "      <td>NaN</td>\n",
       "      <td>0.0</td>\n",
       "      <td>0.0</td>\n",
       "      <td>2.5</td>\n",
       "    </tr>\n",
       "    <tr>\n",
       "      <th>1</th>\n",
       "      <td>CA1PE000010</td>\n",
       "      <td>NEW LONDON 1.6 ENE, PE CA</td>\n",
       "      <td>2018-01-02</td>\n",
       "      <td>NaN</td>\n",
       "      <td>NaN</td>\n",
       "      <td>0.0</td>\n",
       "      <td>0.0</td>\n",
       "      <td>2.5</td>\n",
       "    </tr>\n",
       "    <tr>\n",
       "      <th>2</th>\n",
       "      <td>CA1PE000010</td>\n",
       "      <td>NEW LONDON 1.6 ENE, PE CA</td>\n",
       "      <td>2018-01-03</td>\n",
       "      <td>NaN</td>\n",
       "      <td>NaN</td>\n",
       "      <td>0.0</td>\n",
       "      <td>0.0</td>\n",
       "      <td>2.5</td>\n",
       "    </tr>\n",
       "    <tr>\n",
       "      <th>3</th>\n",
       "      <td>CA1PE000010</td>\n",
       "      <td>NEW LONDON 1.6 ENE, PE CA</td>\n",
       "      <td>2018-01-04</td>\n",
       "      <td>NaN</td>\n",
       "      <td>NaN</td>\n",
       "      <td>0.0</td>\n",
       "      <td>0.0</td>\n",
       "      <td>2.5</td>\n",
       "    </tr>\n",
       "    <tr>\n",
       "      <th>4</th>\n",
       "      <td>CA1PE000010</td>\n",
       "      <td>NEW LONDON 1.6 ENE, PE CA</td>\n",
       "      <td>2018-01-05</td>\n",
       "      <td>NaN</td>\n",
       "      <td>NaN</td>\n",
       "      <td>0.9</td>\n",
       "      <td>2.6</td>\n",
       "      <td>2.0</td>\n",
       "    </tr>\n",
       "  </tbody>\n",
       "</table>\n",
       "</div>"
      ],
      "text/plain": [
       "       STATION                       NAME        DATE  DAPR  MDPR  PRCP  SNOW  \\\n",
       "0  CA1PE000010  NEW LONDON 1.6 ENE, PE CA  2018-01-01   NaN   NaN   0.0   0.0   \n",
       "1  CA1PE000010  NEW LONDON 1.6 ENE, PE CA  2018-01-02   NaN   NaN   0.0   0.0   \n",
       "2  CA1PE000010  NEW LONDON 1.6 ENE, PE CA  2018-01-03   NaN   NaN   0.0   0.0   \n",
       "3  CA1PE000010  NEW LONDON 1.6 ENE, PE CA  2018-01-04   NaN   NaN   0.0   0.0   \n",
       "4  CA1PE000010  NEW LONDON 1.6 ENE, PE CA  2018-01-05   NaN   NaN   0.9   2.6   \n",
       "\n",
       "   SNWD  \n",
       "0   2.5  \n",
       "1   2.5  \n",
       "2   2.5  \n",
       "3   2.5  \n",
       "4   2.0  "
      ]
     },
     "execution_count": 8,
     "metadata": {},
     "output_type": "execute_result"
    }
   ],
   "source": [
    "df_quebec.head()"
   ]
  },
  {
   "cell_type": "code",
   "execution_count": 9,
   "id": "cd5a32dc-df0d-464b-be2f-f4fe6ee6a799",
   "metadata": {},
   "outputs": [
    {
     "data": {
      "text/html": [
       "<div>\n",
       "<style scoped>\n",
       "    .dataframe tbody tr th:only-of-type {\n",
       "        vertical-align: middle;\n",
       "    }\n",
       "\n",
       "    .dataframe tbody tr th {\n",
       "        vertical-align: top;\n",
       "    }\n",
       "\n",
       "    .dataframe thead th {\n",
       "        text-align: right;\n",
       "    }\n",
       "</style>\n",
       "<table border=\"1\" class=\"dataframe\">\n",
       "  <thead>\n",
       "    <tr style=\"text-align: right;\">\n",
       "      <th></th>\n",
       "      <th>STATION</th>\n",
       "      <th>NAME</th>\n",
       "      <th>DATE</th>\n",
       "      <th>DAPR</th>\n",
       "      <th>MDPR</th>\n",
       "      <th>PRCP</th>\n",
       "      <th>SNOW</th>\n",
       "      <th>SNWD</th>\n",
       "    </tr>\n",
       "  </thead>\n",
       "  <tbody>\n",
       "    <tr>\n",
       "      <th>0</th>\n",
       "      <td>CA1PE000010</td>\n",
       "      <td>NEW LONDON 1.6 ENE, PE CA</td>\n",
       "      <td>2018-01-01</td>\n",
       "      <td>NaN</td>\n",
       "      <td>NaN</td>\n",
       "      <td>0.0</td>\n",
       "      <td>0.0</td>\n",
       "      <td>2.5</td>\n",
       "    </tr>\n",
       "    <tr>\n",
       "      <th>1</th>\n",
       "      <td>CA1PE000010</td>\n",
       "      <td>NEW LONDON 1.6 ENE, PE CA</td>\n",
       "      <td>2018-01-02</td>\n",
       "      <td>NaN</td>\n",
       "      <td>NaN</td>\n",
       "      <td>0.0</td>\n",
       "      <td>0.0</td>\n",
       "      <td>2.5</td>\n",
       "    </tr>\n",
       "    <tr>\n",
       "      <th>2</th>\n",
       "      <td>CA1PE000010</td>\n",
       "      <td>NEW LONDON 1.6 ENE, PE CA</td>\n",
       "      <td>2018-01-03</td>\n",
       "      <td>NaN</td>\n",
       "      <td>NaN</td>\n",
       "      <td>0.0</td>\n",
       "      <td>0.0</td>\n",
       "      <td>2.5</td>\n",
       "    </tr>\n",
       "    <tr>\n",
       "      <th>3</th>\n",
       "      <td>CA1PE000010</td>\n",
       "      <td>NEW LONDON 1.6 ENE, PE CA</td>\n",
       "      <td>2018-01-04</td>\n",
       "      <td>NaN</td>\n",
       "      <td>NaN</td>\n",
       "      <td>0.0</td>\n",
       "      <td>0.0</td>\n",
       "      <td>2.5</td>\n",
       "    </tr>\n",
       "    <tr>\n",
       "      <th>4</th>\n",
       "      <td>CA1PE000010</td>\n",
       "      <td>NEW LONDON 1.6 ENE, PE CA</td>\n",
       "      <td>2018-01-05</td>\n",
       "      <td>NaN</td>\n",
       "      <td>NaN</td>\n",
       "      <td>0.9</td>\n",
       "      <td>2.6</td>\n",
       "      <td>2.0</td>\n",
       "    </tr>\n",
       "  </tbody>\n",
       "</table>\n",
       "</div>"
      ],
      "text/plain": [
       "       STATION                       NAME        DATE  DAPR  MDPR  PRCP  SNOW  \\\n",
       "0  CA1PE000010  NEW LONDON 1.6 ENE, PE CA  2018-01-01   NaN   NaN   0.0   0.0   \n",
       "1  CA1PE000010  NEW LONDON 1.6 ENE, PE CA  2018-01-02   NaN   NaN   0.0   0.0   \n",
       "2  CA1PE000010  NEW LONDON 1.6 ENE, PE CA  2018-01-03   NaN   NaN   0.0   0.0   \n",
       "3  CA1PE000010  NEW LONDON 1.6 ENE, PE CA  2018-01-04   NaN   NaN   0.0   0.0   \n",
       "4  CA1PE000010  NEW LONDON 1.6 ENE, PE CA  2018-01-05   NaN   NaN   0.9   2.6   \n",
       "\n",
       "   SNWD  \n",
       "0   2.5  \n",
       "1   2.5  \n",
       "2   2.5  \n",
       "3   2.5  \n",
       "4   2.0  "
      ]
     },
     "execution_count": 9,
     "metadata": {},
     "output_type": "execute_result"
    }
   ],
   "source": [
    "df_quebec.head(5)"
   ]
  },
  {
   "cell_type": "code",
   "execution_count": 10,
   "id": "d7d89772-a85b-44a2-be09-54d9273c647b",
   "metadata": {},
   "outputs": [
    {
     "data": {
      "text/html": [
       "<div>\n",
       "<style scoped>\n",
       "    .dataframe tbody tr th:only-of-type {\n",
       "        vertical-align: middle;\n",
       "    }\n",
       "\n",
       "    .dataframe tbody tr th {\n",
       "        vertical-align: top;\n",
       "    }\n",
       "\n",
       "    .dataframe thead th {\n",
       "        text-align: right;\n",
       "    }\n",
       "</style>\n",
       "<table border=\"1\" class=\"dataframe\">\n",
       "  <thead>\n",
       "    <tr style=\"text-align: right;\">\n",
       "      <th></th>\n",
       "      <th>STATION</th>\n",
       "      <th>NAME</th>\n",
       "      <th>DATE</th>\n",
       "      <th>DAPR</th>\n",
       "      <th>MDPR</th>\n",
       "      <th>PRCP</th>\n",
       "      <th>SNOW</th>\n",
       "      <th>SNWD</th>\n",
       "    </tr>\n",
       "  </thead>\n",
       "  <tbody>\n",
       "    <tr>\n",
       "      <th>0</th>\n",
       "      <td>CA1PE000010</td>\n",
       "      <td>NEW LONDON 1.6 ENE, PE CA</td>\n",
       "      <td>2018-01-01</td>\n",
       "      <td>NaN</td>\n",
       "      <td>NaN</td>\n",
       "      <td>0.00</td>\n",
       "      <td>0.0</td>\n",
       "      <td>2.5</td>\n",
       "    </tr>\n",
       "    <tr>\n",
       "      <th>1</th>\n",
       "      <td>CA1PE000010</td>\n",
       "      <td>NEW LONDON 1.6 ENE, PE CA</td>\n",
       "      <td>2018-01-02</td>\n",
       "      <td>NaN</td>\n",
       "      <td>NaN</td>\n",
       "      <td>0.00</td>\n",
       "      <td>0.0</td>\n",
       "      <td>2.5</td>\n",
       "    </tr>\n",
       "    <tr>\n",
       "      <th>2</th>\n",
       "      <td>CA1PE000010</td>\n",
       "      <td>NEW LONDON 1.6 ENE, PE CA</td>\n",
       "      <td>2018-01-03</td>\n",
       "      <td>NaN</td>\n",
       "      <td>NaN</td>\n",
       "      <td>0.00</td>\n",
       "      <td>0.0</td>\n",
       "      <td>2.5</td>\n",
       "    </tr>\n",
       "    <tr>\n",
       "      <th>3</th>\n",
       "      <td>CA1PE000010</td>\n",
       "      <td>NEW LONDON 1.6 ENE, PE CA</td>\n",
       "      <td>2018-01-04</td>\n",
       "      <td>NaN</td>\n",
       "      <td>NaN</td>\n",
       "      <td>0.00</td>\n",
       "      <td>0.0</td>\n",
       "      <td>2.5</td>\n",
       "    </tr>\n",
       "    <tr>\n",
       "      <th>4</th>\n",
       "      <td>CA1PE000010</td>\n",
       "      <td>NEW LONDON 1.6 ENE, PE CA</td>\n",
       "      <td>2018-01-05</td>\n",
       "      <td>NaN</td>\n",
       "      <td>NaN</td>\n",
       "      <td>0.90</td>\n",
       "      <td>2.6</td>\n",
       "      <td>2.0</td>\n",
       "    </tr>\n",
       "    <tr>\n",
       "      <th>5</th>\n",
       "      <td>CA1PE000010</td>\n",
       "      <td>NEW LONDON 1.6 ENE, PE CA</td>\n",
       "      <td>2018-01-06</td>\n",
       "      <td>NaN</td>\n",
       "      <td>NaN</td>\n",
       "      <td>0.00</td>\n",
       "      <td>0.0</td>\n",
       "      <td>2.0</td>\n",
       "    </tr>\n",
       "    <tr>\n",
       "      <th>6</th>\n",
       "      <td>CA1PE000010</td>\n",
       "      <td>NEW LONDON 1.6 ENE, PE CA</td>\n",
       "      <td>2018-01-07</td>\n",
       "      <td>NaN</td>\n",
       "      <td>NaN</td>\n",
       "      <td>0.00</td>\n",
       "      <td>0.0</td>\n",
       "      <td>2.0</td>\n",
       "    </tr>\n",
       "    <tr>\n",
       "      <th>7</th>\n",
       "      <td>CA1PE000010</td>\n",
       "      <td>NEW LONDON 1.6 ENE, PE CA</td>\n",
       "      <td>2018-01-08</td>\n",
       "      <td>NaN</td>\n",
       "      <td>NaN</td>\n",
       "      <td>0.03</td>\n",
       "      <td>0.4</td>\n",
       "      <td>2.0</td>\n",
       "    </tr>\n",
       "    <tr>\n",
       "      <th>8</th>\n",
       "      <td>CA1PE000010</td>\n",
       "      <td>NEW LONDON 1.6 ENE, PE CA</td>\n",
       "      <td>2018-01-09</td>\n",
       "      <td>NaN</td>\n",
       "      <td>NaN</td>\n",
       "      <td>0.11</td>\n",
       "      <td>2.2</td>\n",
       "      <td>4.0</td>\n",
       "    </tr>\n",
       "    <tr>\n",
       "      <th>9</th>\n",
       "      <td>CA1PE000010</td>\n",
       "      <td>NEW LONDON 1.6 ENE, PE CA</td>\n",
       "      <td>2018-01-10</td>\n",
       "      <td>NaN</td>\n",
       "      <td>NaN</td>\n",
       "      <td>0.01</td>\n",
       "      <td>0.1</td>\n",
       "      <td>4.0</td>\n",
       "    </tr>\n",
       "  </tbody>\n",
       "</table>\n",
       "</div>"
      ],
      "text/plain": [
       "       STATION                       NAME        DATE  DAPR  MDPR  PRCP  SNOW  \\\n",
       "0  CA1PE000010  NEW LONDON 1.6 ENE, PE CA  2018-01-01   NaN   NaN  0.00   0.0   \n",
       "1  CA1PE000010  NEW LONDON 1.6 ENE, PE CA  2018-01-02   NaN   NaN  0.00   0.0   \n",
       "2  CA1PE000010  NEW LONDON 1.6 ENE, PE CA  2018-01-03   NaN   NaN  0.00   0.0   \n",
       "3  CA1PE000010  NEW LONDON 1.6 ENE, PE CA  2018-01-04   NaN   NaN  0.00   0.0   \n",
       "4  CA1PE000010  NEW LONDON 1.6 ENE, PE CA  2018-01-05   NaN   NaN  0.90   2.6   \n",
       "5  CA1PE000010  NEW LONDON 1.6 ENE, PE CA  2018-01-06   NaN   NaN  0.00   0.0   \n",
       "6  CA1PE000010  NEW LONDON 1.6 ENE, PE CA  2018-01-07   NaN   NaN  0.00   0.0   \n",
       "7  CA1PE000010  NEW LONDON 1.6 ENE, PE CA  2018-01-08   NaN   NaN  0.03   0.4   \n",
       "8  CA1PE000010  NEW LONDON 1.6 ENE, PE CA  2018-01-09   NaN   NaN  0.11   2.2   \n",
       "9  CA1PE000010  NEW LONDON 1.6 ENE, PE CA  2018-01-10   NaN   NaN  0.01   0.1   \n",
       "\n",
       "   SNWD  \n",
       "0   2.5  \n",
       "1   2.5  \n",
       "2   2.5  \n",
       "3   2.5  \n",
       "4   2.0  \n",
       "5   2.0  \n",
       "6   2.0  \n",
       "7   2.0  \n",
       "8   4.0  \n",
       "9   4.0  "
      ]
     },
     "execution_count": 10,
     "metadata": {},
     "output_type": "execute_result"
    }
   ],
   "source": [
    "df_quebec.head(10)"
   ]
  },
  {
   "cell_type": "code",
   "execution_count": 11,
   "id": "849b5477-612b-422f-ae2f-7688726de252",
   "metadata": {},
   "outputs": [
    {
     "data": {
      "text/plain": [
       "Index(['STATION', 'NAME', 'DATE', 'DAPR', 'MDPR', 'PRCP', 'SNOW', 'SNWD',\n",
       "       'WESD', 'WESF'],\n",
       "      dtype='object')"
      ]
     },
     "execution_count": 11,
     "metadata": {},
     "output_type": "execute_result"
    }
   ],
   "source": [
    "df_seattle.columns"
   ]
  },
  {
   "cell_type": "code",
   "execution_count": 12,
   "id": "e7a96234-f027-4ac0-abf0-d980001c4476",
   "metadata": {},
   "outputs": [
    {
     "data": {
      "text/plain": [
       "Index(['STATION', 'NAME', 'DATE', 'DAPR', 'MDPR', 'PRCP', 'SNOW', 'SNWD'], dtype='object')"
      ]
     },
     "execution_count": 12,
     "metadata": {},
     "output_type": "execute_result"
    }
   ],
   "source": [
    "df_quebec.columns"
   ]
  },
  {
   "cell_type": "code",
   "execution_count": 13,
   "id": "ea20d53b-03cf-4bfd-9cff-3db740e57571",
   "metadata": {},
   "outputs": [
    {
     "name": "stdout",
     "output_type": "stream",
     "text": [
      "<class 'pandas.core.frame.DataFrame'>\n",
      "RangeIndex: 1658 entries, 0 to 1657\n",
      "Data columns (total 10 columns):\n",
      " #   Column   Non-Null Count  Dtype  \n",
      "---  ------   --------------  -----  \n",
      " 0   STATION  1658 non-null   object \n",
      " 1   NAME     1658 non-null   object \n",
      " 2   DATE     1658 non-null   object \n",
      " 3   DAPR     23 non-null     float64\n",
      " 4   MDPR     23 non-null     float64\n",
      " 5   PRCP     1636 non-null   float64\n",
      " 6   SNOW     353 non-null    float64\n",
      " 7   SNWD     66 non-null     float64\n",
      " 8   WESD     15 non-null     float64\n",
      " 9   WESF     28 non-null     float64\n",
      "dtypes: float64(7), object(3)\n",
      "memory usage: 129.7+ KB\n"
     ]
    }
   ],
   "source": [
    "df_seattle.info()"
   ]
  },
  {
   "cell_type": "code",
   "execution_count": 14,
   "id": "58d553cf-b95c-4f74-b510-42e56b555435",
   "metadata": {},
   "outputs": [
    {
     "name": "stdout",
     "output_type": "stream",
     "text": [
      "<class 'pandas.core.frame.DataFrame'>\n",
      "RangeIndex: 1773 entries, 0 to 1772\n",
      "Data columns (total 8 columns):\n",
      " #   Column   Non-Null Count  Dtype  \n",
      "---  ------   --------------  -----  \n",
      " 0   STATION  1773 non-null   object \n",
      " 1   NAME     1773 non-null   object \n",
      " 2   DATE     1773 non-null   object \n",
      " 3   DAPR     8 non-null      float64\n",
      " 4   MDPR     8 non-null      float64\n",
      " 5   PRCP     1765 non-null   float64\n",
      " 6   SNOW     1761 non-null   float64\n",
      " 7   SNWD     1583 non-null   float64\n",
      "dtypes: float64(5), object(3)\n",
      "memory usage: 110.9+ KB\n"
     ]
    }
   ],
   "source": [
    "df_quebec.info()"
   ]
  },
  {
   "cell_type": "code",
   "execution_count": 15,
   "id": "70d2bd3c-70b3-4e95-8e4d-b1f5fd0f40f1",
   "metadata": {},
   "outputs": [
    {
     "name": "stdout",
     "output_type": "stream",
     "text": [
      "(1658, 10)\n"
     ]
    }
   ],
   "source": [
    "print(df_seattle.shape)"
   ]
  },
  {
   "cell_type": "code",
   "execution_count": 16,
   "id": "ff8dfe82-dbea-4a9f-b531-7889d8497e2f",
   "metadata": {},
   "outputs": [
    {
     "name": "stdout",
     "output_type": "stream",
     "text": [
      "(1773, 8)\n"
     ]
    }
   ],
   "source": [
    "print(df_quebec.shape)"
   ]
  },
  {
   "cell_type": "code",
   "execution_count": null,
   "id": "fb18f928-fcae-429f-b458-700685c70e03",
   "metadata": {},
   "outputs": [],
   "source": []
  },
  {
   "cell_type": "code",
   "execution_count": 114,
   "id": "1ae5d4a3-dcfd-484a-bdc6-5dd5d401b505",
   "metadata": {},
   "outputs": [],
   "source": [
    "#Assess the suitability of the data for the problem"
   ]
  },
  {
   "cell_type": "code",
   "execution_count": null,
   "id": "86992f9a-8eb5-4f3b-8674-d548bde41e51",
   "metadata": {},
   "outputs": [],
   "source": []
  },
  {
   "cell_type": "code",
   "execution_count": 18,
   "id": "ac4e7d11-e0fb-42ba-981d-a574e40e2435",
   "metadata": {},
   "outputs": [
    {
     "data": {
      "text/plain": [
       "0       CA1PE000010\n",
       "1       CA1PE000010\n",
       "2       CA1PE000010\n",
       "3       CA1PE000010\n",
       "4       CA1PE000010\n",
       "           ...     \n",
       "1768    CA1PE000010\n",
       "1769    CA1PE000010\n",
       "1770    CA1PE000010\n",
       "1771    CA1PE000010\n",
       "1772    CA1PE000010\n",
       "Name: STATION, Length: 1773, dtype: object"
      ]
     },
     "execution_count": 18,
     "metadata": {},
     "output_type": "execute_result"
    }
   ],
   "source": [
    "df_quebec[\"STATION\"]"
   ]
  },
  {
   "cell_type": "code",
   "execution_count": 19,
   "id": "ed58df52-b94f-49d8-8143-d5702304e220",
   "metadata": {},
   "outputs": [
    {
     "data": {
      "text/plain": [
       "array(['CA1PE000010'], dtype=object)"
      ]
     },
     "execution_count": 19,
     "metadata": {},
     "output_type": "execute_result"
    }
   ],
   "source": [
    "df_quebec['STATION'].unique()"
   ]
  },
  {
   "cell_type": "code",
   "execution_count": 20,
   "id": "4bb7561f-1e27-4c16-9e48-96f589d7c04a",
   "metadata": {},
   "outputs": [
    {
     "data": {
      "text/plain": [
       "1"
      ]
     },
     "execution_count": 20,
     "metadata": {},
     "output_type": "execute_result"
    }
   ],
   "source": [
    "df_quebec['STATION'].nunique()"
   ]
  },
  {
   "cell_type": "code",
   "execution_count": 21,
   "id": "8c1b300d-f845-4b0b-bb3a-786a9f1b802a",
   "metadata": {},
   "outputs": [
    {
     "data": {
      "text/plain": [
       "1"
      ]
     },
     "execution_count": 21,
     "metadata": {},
     "output_type": "execute_result"
    }
   ],
   "source": [
    "df_seattle[\"STATION\"].nunique()"
   ]
  },
  {
   "cell_type": "code",
   "execution_count": 22,
   "id": "1c93c3bc-fba8-4528-b540-49bf094f368c",
   "metadata": {},
   "outputs": [
    {
     "data": {
      "text/plain": [
       "0         1/1/18\n",
       "1         1/2/18\n",
       "2         1/3/18\n",
       "3         1/4/18\n",
       "4         1/5/18\n",
       "          ...   \n",
       "1653    12/27/22\n",
       "1654    12/28/22\n",
       "1655    12/29/22\n",
       "1656    12/30/22\n",
       "1657    12/31/22\n",
       "Name: DATE, Length: 1658, dtype: object"
      ]
     },
     "execution_count": 22,
     "metadata": {},
     "output_type": "execute_result"
    }
   ],
   "source": [
    "df_seattle[\"DATE\"]"
   ]
  },
  {
   "cell_type": "code",
   "execution_count": 23,
   "id": "f67c0221-880b-47e1-8108-858a2e2d244a",
   "metadata": {},
   "outputs": [
    {
     "data": {
      "text/plain": [
       "0       2018-01-01\n",
       "1       2018-01-02\n",
       "2       2018-01-03\n",
       "3       2018-01-04\n",
       "4       2018-01-05\n",
       "           ...    \n",
       "1768    2022-12-27\n",
       "1769    2022-12-28\n",
       "1770    2022-12-29\n",
       "1771    2022-12-30\n",
       "1772    2022-12-31\n",
       "Name: DATE, Length: 1773, dtype: object"
      ]
     },
     "execution_count": 23,
     "metadata": {},
     "output_type": "execute_result"
    }
   ],
   "source": [
    "df_quebec[\"DATE\"]"
   ]
  },
  {
   "cell_type": "code",
   "execution_count": 24,
   "id": "0e3b7a67-1109-4489-88ac-852dafaf2ab0",
   "metadata": {},
   "outputs": [
    {
     "data": {
      "text/plain": [
       "'9/9/22'"
      ]
     },
     "execution_count": 24,
     "metadata": {},
     "output_type": "execute_result"
    }
   ],
   "source": [
    "df_seattle[\"DATE\"].max()"
   ]
  },
  {
   "cell_type": "code",
   "execution_count": 25,
   "id": "6ce6d04d-17d0-49da-a7d3-de4221e24195",
   "metadata": {},
   "outputs": [
    {
     "data": {
      "text/plain": [
       "1653    12/27/22\n",
       "1654    12/28/22\n",
       "1655    12/29/22\n",
       "1656    12/30/22\n",
       "1657    12/31/22\n",
       "Name: DATE, dtype: object"
      ]
     },
     "execution_count": 25,
     "metadata": {},
     "output_type": "execute_result"
    }
   ],
   "source": [
    "df_seattle[\"DATE\"].tail()"
   ]
  },
  {
   "cell_type": "code",
   "execution_count": 27,
   "id": "d5c3ceb1-483b-4620-8deb-e33e065de35c",
   "metadata": {},
   "outputs": [],
   "source": [
    "df_quebec[\"DATE\"]= pd.to_datetime(df_seattle[\"DATE\"])"
   ]
  },
  {
   "cell_type": "code",
   "execution_count": 28,
   "id": "f07ad7aa-a869-43f1-b25b-144944a7dd2d",
   "metadata": {},
   "outputs": [],
   "source": [
    "df_seattle[\"DATE\"]= pd.to_datetime(df_seattle[\"DATE\"])"
   ]
  },
  {
   "cell_type": "code",
   "execution_count": 29,
   "id": "d1649827-9a7a-484b-92d3-7d8ea148fd20",
   "metadata": {},
   "outputs": [],
   "source": [
    "df_quebec[\"DATE\"]= pd.to_datetime(df_quebec[\"DATE\"])"
   ]
  },
  {
   "cell_type": "code",
   "execution_count": 30,
   "id": "bcd7a1a1-265a-42da-8a1d-d05089b4e730",
   "metadata": {},
   "outputs": [
    {
     "data": {
      "text/plain": [
       "0      2018-01-01\n",
       "1      2018-01-02\n",
       "2      2018-01-03\n",
       "3      2018-01-04\n",
       "4      2018-01-05\n",
       "          ...    \n",
       "1653   2022-12-27\n",
       "1654   2022-12-28\n",
       "1655   2022-12-29\n",
       "1656   2022-12-30\n",
       "1657   2022-12-31\n",
       "Name: DATE, Length: 1658, dtype: datetime64[ns]"
      ]
     },
     "execution_count": 30,
     "metadata": {},
     "output_type": "execute_result"
    }
   ],
   "source": [
    "df_seattle[\"DATE\"]"
   ]
  },
  {
   "cell_type": "code",
   "execution_count": 31,
   "id": "72677af8-0f43-4071-a93d-f62b3392a19c",
   "metadata": {},
   "outputs": [
    {
     "data": {
      "text/plain": [
       "0      2018-01-01\n",
       "1      2018-01-02\n",
       "2      2018-01-03\n",
       "3      2018-01-04\n",
       "4      2018-01-05\n",
       "          ...    \n",
       "1768          NaT\n",
       "1769          NaT\n",
       "1770          NaT\n",
       "1771          NaT\n",
       "1772          NaT\n",
       "Name: DATE, Length: 1773, dtype: datetime64[ns]"
      ]
     },
     "execution_count": 31,
     "metadata": {},
     "output_type": "execute_result"
    }
   ],
   "source": [
    "df_quebec[\"DATE\"]"
   ]
  },
  {
   "cell_type": "code",
   "execution_count": 32,
   "id": "924e604d-32e9-449f-88f2-008c4e7a4629",
   "metadata": {},
   "outputs": [
    {
     "data": {
      "text/plain": [
       "1768   NaT\n",
       "1769   NaT\n",
       "1770   NaT\n",
       "1771   NaT\n",
       "1772   NaT\n",
       "Name: DATE, dtype: datetime64[ns]"
      ]
     },
     "execution_count": 32,
     "metadata": {},
     "output_type": "execute_result"
    }
   ],
   "source": [
    "df_quebec[\"DATE\"].tail()"
   ]
  },
  {
   "cell_type": "code",
   "execution_count": 33,
   "id": "160dd4c5-b2fd-4015-84c4-00600a5290e2",
   "metadata": {},
   "outputs": [],
   "source": [
    "#There are NaT values present in the tail of the data set. When I checked before these were strings of dates. I asked Anaconda Assistant and it said it could be due to trying to covnert when they were already the data type\n"
   ]
  },
  {
   "cell_type": "code",
   "execution_count": 34,
   "id": "99551635-a15a-4f78-bf7a-6f11ae462927",
   "metadata": {},
   "outputs": [],
   "source": [
    "#Can't undo because it is a conversion so I will try to just reload the dataset"
   ]
  },
  {
   "cell_type": "code",
   "execution_count": 35,
   "id": "c820a8a7-76a2-4118-a67b-5bc278b86517",
   "metadata": {},
   "outputs": [],
   "source": [
    "df_quebec = pd.read_csv('https://raw.githubusercontent.com/elarson5/DATA-5100-weather/main/data/quebec_rain.csv')"
   ]
  },
  {
   "cell_type": "code",
   "execution_count": 36,
   "id": "86be114a-057c-4a4a-a902-426769ca90b0",
   "metadata": {},
   "outputs": [
    {
     "name": "stdout",
     "output_type": "stream",
     "text": [
      "(1773, 8)\n"
     ]
    }
   ],
   "source": [
    "print(df_quebec.shape)"
   ]
  },
  {
   "cell_type": "code",
   "execution_count": 37,
   "id": "3e892cb4-8c0d-41d5-aeb7-19425999ae22",
   "metadata": {},
   "outputs": [
    {
     "data": {
      "text/plain": [
       "0       2018-01-01\n",
       "1       2018-01-02\n",
       "2       2018-01-03\n",
       "3       2018-01-04\n",
       "4       2018-01-05\n",
       "           ...    \n",
       "1768    2022-12-27\n",
       "1769    2022-12-28\n",
       "1770    2022-12-29\n",
       "1771    2022-12-30\n",
       "1772    2022-12-31\n",
       "Name: DATE, Length: 1773, dtype: object"
      ]
     },
     "execution_count": 37,
     "metadata": {},
     "output_type": "execute_result"
    }
   ],
   "source": [
    "df_quebec[\"DATE\"]"
   ]
  },
  {
   "cell_type": "code",
   "execution_count": 38,
   "id": "fc62fddb-47d8-49ae-8b5e-9435deeea378",
   "metadata": {},
   "outputs": [
    {
     "data": {
      "text/plain": [
       "False"
      ]
     },
     "execution_count": 38,
     "metadata": {},
     "output_type": "execute_result"
    }
   ],
   "source": [
    "isinstance(df_quebec.index, pd.DatetimeIndex)"
   ]
  },
  {
   "cell_type": "code",
   "execution_count": 41,
   "id": "4dcb53fa-f4ac-4151-94a0-cbf3a72ae6dd",
   "metadata": {},
   "outputs": [
    {
     "name": "stdout",
     "output_type": "stream",
     "text": [
      "0    2018-01-01\n",
      "1    2018-01-02\n",
      "2    2018-01-03\n",
      "3    2018-01-04\n",
      "4    2018-01-05\n",
      "Name: DATE, dtype: object\n"
     ]
    }
   ],
   "source": [
    " print(df_quebec['DATE'].head())"
   ]
  },
  {
   "cell_type": "code",
   "execution_count": 42,
   "id": "4ebf7c05-f3c1-45fa-a94a-ccff8aef38fc",
   "metadata": {},
   "outputs": [
    {
     "name": "stdout",
     "output_type": "stream",
     "text": [
      "1768    2022-12-27\n",
      "1769    2022-12-28\n",
      "1770    2022-12-29\n",
      "1771    2022-12-30\n",
      "1772    2022-12-31\n",
      "Name: DATE, dtype: object\n"
     ]
    }
   ],
   "source": [
    " print(df_quebec['DATE'].tail())"
   ]
  },
  {
   "cell_type": "code",
   "execution_count": 43,
   "id": "46e2165f-6f1b-4df4-824d-88c5bb1f4a36",
   "metadata": {},
   "outputs": [],
   "source": [
    "df_quebec[\"DATE\"] = pd.to_datetime(df_quebec[\"DATE\"])"
   ]
  },
  {
   "cell_type": "code",
   "execution_count": 44,
   "id": "c16c1dfc-d395-4399-88c1-9dad91a998a1",
   "metadata": {},
   "outputs": [
    {
     "data": {
      "text/plain": [
       "0      2018-01-01\n",
       "1      2018-01-02\n",
       "2      2018-01-03\n",
       "3      2018-01-04\n",
       "4      2018-01-05\n",
       "          ...    \n",
       "1768   2022-12-27\n",
       "1769   2022-12-28\n",
       "1770   2022-12-29\n",
       "1771   2022-12-30\n",
       "1772   2022-12-31\n",
       "Name: DATE, Length: 1773, dtype: datetime64[ns]"
      ]
     },
     "execution_count": 44,
     "metadata": {},
     "output_type": "execute_result"
    }
   ],
   "source": [
    "df_quebec[\"DATE\"]"
   ]
  },
  {
   "cell_type": "code",
   "execution_count": 45,
   "id": "d3283900-43f1-406e-b325-acfe1cd99748",
   "metadata": {},
   "outputs": [],
   "source": [
    "#I must have typed the code wrong before or something because now it looks fine "
   ]
  },
  {
   "cell_type": "code",
   "execution_count": 46,
   "id": "e6f72abc-5676-4f60-a5e6-10d5d01f3a1c",
   "metadata": {},
   "outputs": [
    {
     "data": {
      "text/html": [
       "<div>\n",
       "<style scoped>\n",
       "    .dataframe tbody tr th:only-of-type {\n",
       "        vertical-align: middle;\n",
       "    }\n",
       "\n",
       "    .dataframe tbody tr th {\n",
       "        vertical-align: top;\n",
       "    }\n",
       "\n",
       "    .dataframe thead th {\n",
       "        text-align: right;\n",
       "    }\n",
       "</style>\n",
       "<table border=\"1\" class=\"dataframe\">\n",
       "  <thead>\n",
       "    <tr style=\"text-align: right;\">\n",
       "      <th></th>\n",
       "      <th>STATION</th>\n",
       "      <th>NAME</th>\n",
       "      <th>DATE</th>\n",
       "      <th>DAPR</th>\n",
       "      <th>MDPR</th>\n",
       "      <th>PRCP</th>\n",
       "      <th>SNOW</th>\n",
       "      <th>SNWD</th>\n",
       "    </tr>\n",
       "  </thead>\n",
       "  <tbody>\n",
       "    <tr>\n",
       "      <th>1768</th>\n",
       "      <td>CA1PE000010</td>\n",
       "      <td>NEW LONDON 1.6 ENE, PE CA</td>\n",
       "      <td>2022-12-27</td>\n",
       "      <td>NaN</td>\n",
       "      <td>NaN</td>\n",
       "      <td>0.00</td>\n",
       "      <td>0.0</td>\n",
       "      <td>0.5</td>\n",
       "    </tr>\n",
       "    <tr>\n",
       "      <th>1769</th>\n",
       "      <td>CA1PE000010</td>\n",
       "      <td>NEW LONDON 1.6 ENE, PE CA</td>\n",
       "      <td>2022-12-28</td>\n",
       "      <td>NaN</td>\n",
       "      <td>NaN</td>\n",
       "      <td>0.04</td>\n",
       "      <td>0.6</td>\n",
       "      <td>1.0</td>\n",
       "    </tr>\n",
       "    <tr>\n",
       "      <th>1770</th>\n",
       "      <td>CA1PE000010</td>\n",
       "      <td>NEW LONDON 1.6 ENE, PE CA</td>\n",
       "      <td>2022-12-29</td>\n",
       "      <td>NaN</td>\n",
       "      <td>NaN</td>\n",
       "      <td>0.01</td>\n",
       "      <td>0.1</td>\n",
       "      <td>1.0</td>\n",
       "    </tr>\n",
       "    <tr>\n",
       "      <th>1771</th>\n",
       "      <td>CA1PE000010</td>\n",
       "      <td>NEW LONDON 1.6 ENE, PE CA</td>\n",
       "      <td>2022-12-30</td>\n",
       "      <td>NaN</td>\n",
       "      <td>NaN</td>\n",
       "      <td>0.05</td>\n",
       "      <td>0.5</td>\n",
       "      <td>1.5</td>\n",
       "    </tr>\n",
       "    <tr>\n",
       "      <th>1772</th>\n",
       "      <td>CA1PE000010</td>\n",
       "      <td>NEW LONDON 1.6 ENE, PE CA</td>\n",
       "      <td>2022-12-31</td>\n",
       "      <td>NaN</td>\n",
       "      <td>NaN</td>\n",
       "      <td>0.00</td>\n",
       "      <td>0.0</td>\n",
       "      <td>0.0</td>\n",
       "    </tr>\n",
       "  </tbody>\n",
       "</table>\n",
       "</div>"
      ],
      "text/plain": [
       "          STATION                       NAME       DATE  DAPR  MDPR  PRCP  \\\n",
       "1768  CA1PE000010  NEW LONDON 1.6 ENE, PE CA 2022-12-27   NaN   NaN  0.00   \n",
       "1769  CA1PE000010  NEW LONDON 1.6 ENE, PE CA 2022-12-28   NaN   NaN  0.04   \n",
       "1770  CA1PE000010  NEW LONDON 1.6 ENE, PE CA 2022-12-29   NaN   NaN  0.01   \n",
       "1771  CA1PE000010  NEW LONDON 1.6 ENE, PE CA 2022-12-30   NaN   NaN  0.05   \n",
       "1772  CA1PE000010  NEW LONDON 1.6 ENE, PE CA 2022-12-31   NaN   NaN  0.00   \n",
       "\n",
       "      SNOW  SNWD  \n",
       "1768   0.0   0.5  \n",
       "1769   0.6   1.0  \n",
       "1770   0.1   1.0  \n",
       "1771   0.5   1.5  \n",
       "1772   0.0   0.0  "
      ]
     },
     "execution_count": 46,
     "metadata": {},
     "output_type": "execute_result"
    }
   ],
   "source": [
    "df_quebec.tail()"
   ]
  },
  {
   "cell_type": "code",
   "execution_count": 48,
   "id": "4f5f2b2f-3306-404e-9cf1-5f620e8b6192",
   "metadata": {},
   "outputs": [
    {
     "data": {
      "text/plain": [
       "Timestamp('2018-01-01 00:00:00')"
      ]
     },
     "execution_count": 48,
     "metadata": {},
     "output_type": "execute_result"
    }
   ],
   "source": [
    "df_seattle[\"DATE\"].min()"
   ]
  },
  {
   "cell_type": "code",
   "execution_count": 49,
   "id": "31818c06-7488-4918-b2af-298ebca9b6b9",
   "metadata": {},
   "outputs": [
    {
     "data": {
      "text/plain": [
       "Timestamp('2022-12-31 00:00:00')"
      ]
     },
     "execution_count": 49,
     "metadata": {},
     "output_type": "execute_result"
    }
   ],
   "source": [
    "df_seattle[\"DATE\"].max()"
   ]
  },
  {
   "cell_type": "code",
   "execution_count": 50,
   "id": "1ec13f97-6eef-457e-a513-9d6402d9384f",
   "metadata": {},
   "outputs": [
    {
     "data": {
      "text/plain": [
       "min   2018-01-01\n",
       "max   2022-12-31\n",
       "Name: DATE, dtype: datetime64[ns]"
      ]
     },
     "execution_count": 50,
     "metadata": {},
     "output_type": "execute_result"
    }
   ],
   "source": [
    "df_seattle[\"DATE\"].agg([\"min\", \"max\"])"
   ]
  },
  {
   "cell_type": "code",
   "execution_count": 51,
   "id": "2d681d68-c423-4c27-9920-1bf763592d60",
   "metadata": {},
   "outputs": [
    {
     "data": {
      "text/plain": [
       "min   2018-01-01\n",
       "max   2022-12-31\n",
       "Name: DATE, dtype: datetime64[ns]"
      ]
     },
     "execution_count": 51,
     "metadata": {},
     "output_type": "execute_result"
    }
   ],
   "source": [
    "df_quebec[\"DATE\"].agg([\"min\", \"max\"])"
   ]
  },
  {
   "cell_type": "code",
   "execution_count": null,
   "id": "b20c45bc-ad82-400d-abb7-9d00172ff897",
   "metadata": {},
   "outputs": [],
   "source": []
  },
  {
   "cell_type": "code",
   "execution_count": 115,
   "id": "bb719138-8936-4ea6-96a6-455cade12b34",
   "metadata": {},
   "outputs": [],
   "source": [
    "#Understanding New Code"
   ]
  },
  {
   "cell_type": "code",
   "execution_count": null,
   "id": "1a43f2f0-6b77-4e0e-82b0-52fd5d6027a5",
   "metadata": {},
   "outputs": [],
   "source": []
  },
  {
   "cell_type": "code",
   "execution_count": 52,
   "id": "1107e51a-720f-4e7f-a664-89c01a3faa30",
   "metadata": {},
   "outputs": [
    {
     "data": {
      "image/png": "[encoded data removed]",
      "text/plain": [
       "<Figure size 2000x500 with 1 Axes>"
      ]
     },
     "metadata": {},
     "output_type": "display_data"
    }
   ],
   "source": [
    "plt.figure(figsize=(20, 5))\n",
    "sns.lineplot(data=df_seattle, x=\"DATE\", y=\"PRCP\")\n",
    "\n",
    "plt.xlabel(\"Date\", fontsize=18)\n",
    "plt.ylabel(\"Precipitation (inches)\", fontsize=18)\n",
    "\n",
    "plt.tick_params(labelsize=15)\n",
    "\n",
    "plt.show()"
   ]
  },
  {
   "cell_type": "code",
   "execution_count": null,
   "id": "1379ac18-4cf8-447f-b72c-f00051b004ce",
   "metadata": {},
   "outputs": [],
   "source": []
  },
  {
   "cell_type": "code",
   "execution_count": null,
   "id": "5f862b8a-7374-4587-a04a-19366e123d72",
   "metadata": {},
   "outputs": [],
   "source": [
    "#Select Relevant Subsets of the Data"
   ]
  },
  {
   "cell_type": "code",
   "execution_count": null,
   "id": "6372becc-4f93-44ba-acca-825cf2621e52",
   "metadata": {},
   "outputs": [],
   "source": []
  },
  {
   "cell_type": "code",
   "execution_count": 53,
   "id": "46f24da7-e973-449f-9419-b36a36dd0443",
   "metadata": {},
   "outputs": [
    {
     "data": {
      "text/html": [
       "<div>\n",
       "<style scoped>\n",
       "    .dataframe tbody tr th:only-of-type {\n",
       "        vertical-align: middle;\n",
       "    }\n",
       "\n",
       "    .dataframe tbody tr th {\n",
       "        vertical-align: top;\n",
       "    }\n",
       "\n",
       "    .dataframe thead th {\n",
       "        text-align: right;\n",
       "    }\n",
       "</style>\n",
       "<table border=\"1\" class=\"dataframe\">\n",
       "  <thead>\n",
       "    <tr style=\"text-align: right;\">\n",
       "      <th></th>\n",
       "      <th>STATION</th>\n",
       "      <th>NAME</th>\n",
       "      <th>DATE</th>\n",
       "      <th>DAPR</th>\n",
       "      <th>MDPR</th>\n",
       "      <th>PRCP</th>\n",
       "      <th>SNOW</th>\n",
       "      <th>SNWD</th>\n",
       "      <th>WESD</th>\n",
       "      <th>WESF</th>\n",
       "    </tr>\n",
       "  </thead>\n",
       "  <tbody>\n",
       "    <tr>\n",
       "      <th>0</th>\n",
       "      <td>US1WAKG0225</td>\n",
       "      <td>SEATTLE 2.1 ESE, WA US</td>\n",
       "      <td>2018-01-01</td>\n",
       "      <td>NaN</td>\n",
       "      <td>NaN</td>\n",
       "      <td>0.00</td>\n",
       "      <td>NaN</td>\n",
       "      <td>NaN</td>\n",
       "      <td>NaN</td>\n",
       "      <td>NaN</td>\n",
       "    </tr>\n",
       "    <tr>\n",
       "      <th>1</th>\n",
       "      <td>US1WAKG0225</td>\n",
       "      <td>SEATTLE 2.1 ESE, WA US</td>\n",
       "      <td>2018-01-02</td>\n",
       "      <td>NaN</td>\n",
       "      <td>NaN</td>\n",
       "      <td>0.00</td>\n",
       "      <td>NaN</td>\n",
       "      <td>NaN</td>\n",
       "      <td>NaN</td>\n",
       "      <td>NaN</td>\n",
       "    </tr>\n",
       "    <tr>\n",
       "      <th>2</th>\n",
       "      <td>US1WAKG0225</td>\n",
       "      <td>SEATTLE 2.1 ESE, WA US</td>\n",
       "      <td>2018-01-03</td>\n",
       "      <td>NaN</td>\n",
       "      <td>NaN</td>\n",
       "      <td>0.00</td>\n",
       "      <td>NaN</td>\n",
       "      <td>NaN</td>\n",
       "      <td>NaN</td>\n",
       "      <td>NaN</td>\n",
       "    </tr>\n",
       "    <tr>\n",
       "      <th>3</th>\n",
       "      <td>US1WAKG0225</td>\n",
       "      <td>SEATTLE 2.1 ESE, WA US</td>\n",
       "      <td>2018-01-04</td>\n",
       "      <td>NaN</td>\n",
       "      <td>NaN</td>\n",
       "      <td>0.00</td>\n",
       "      <td>NaN</td>\n",
       "      <td>NaN</td>\n",
       "      <td>NaN</td>\n",
       "      <td>NaN</td>\n",
       "    </tr>\n",
       "    <tr>\n",
       "      <th>4</th>\n",
       "      <td>US1WAKG0225</td>\n",
       "      <td>SEATTLE 2.1 ESE, WA US</td>\n",
       "      <td>2018-01-05</td>\n",
       "      <td>NaN</td>\n",
       "      <td>NaN</td>\n",
       "      <td>0.25</td>\n",
       "      <td>NaN</td>\n",
       "      <td>NaN</td>\n",
       "      <td>NaN</td>\n",
       "      <td>NaN</td>\n",
       "    </tr>\n",
       "    <tr>\n",
       "      <th>5</th>\n",
       "      <td>US1WAKG0225</td>\n",
       "      <td>SEATTLE 2.1 ESE, WA US</td>\n",
       "      <td>2018-01-06</td>\n",
       "      <td>NaN</td>\n",
       "      <td>NaN</td>\n",
       "      <td>0.57</td>\n",
       "      <td>NaN</td>\n",
       "      <td>NaN</td>\n",
       "      <td>NaN</td>\n",
       "      <td>NaN</td>\n",
       "    </tr>\n",
       "    <tr>\n",
       "      <th>6</th>\n",
       "      <td>US1WAKG0225</td>\n",
       "      <td>SEATTLE 2.1 ESE, WA US</td>\n",
       "      <td>2018-01-07</td>\n",
       "      <td>NaN</td>\n",
       "      <td>NaN</td>\n",
       "      <td>0.23</td>\n",
       "      <td>NaN</td>\n",
       "      <td>NaN</td>\n",
       "      <td>NaN</td>\n",
       "      <td>NaN</td>\n",
       "    </tr>\n",
       "    <tr>\n",
       "      <th>7</th>\n",
       "      <td>US1WAKG0225</td>\n",
       "      <td>SEATTLE 2.1 ESE, WA US</td>\n",
       "      <td>2018-01-08</td>\n",
       "      <td>NaN</td>\n",
       "      <td>NaN</td>\n",
       "      <td>0.41</td>\n",
       "      <td>NaN</td>\n",
       "      <td>NaN</td>\n",
       "      <td>NaN</td>\n",
       "      <td>NaN</td>\n",
       "    </tr>\n",
       "    <tr>\n",
       "      <th>8</th>\n",
       "      <td>US1WAKG0225</td>\n",
       "      <td>SEATTLE 2.1 ESE, WA US</td>\n",
       "      <td>2018-03-12</td>\n",
       "      <td>NaN</td>\n",
       "      <td>NaN</td>\n",
       "      <td>0.00</td>\n",
       "      <td>NaN</td>\n",
       "      <td>NaN</td>\n",
       "      <td>NaN</td>\n",
       "      <td>NaN</td>\n",
       "    </tr>\n",
       "    <tr>\n",
       "      <th>9</th>\n",
       "      <td>US1WAKG0225</td>\n",
       "      <td>SEATTLE 2.1 ESE, WA US</td>\n",
       "      <td>2018-03-13</td>\n",
       "      <td>NaN</td>\n",
       "      <td>NaN</td>\n",
       "      <td>0.00</td>\n",
       "      <td>NaN</td>\n",
       "      <td>NaN</td>\n",
       "      <td>NaN</td>\n",
       "      <td>NaN</td>\n",
       "    </tr>\n",
       "    <tr>\n",
       "      <th>10</th>\n",
       "      <td>US1WAKG0225</td>\n",
       "      <td>SEATTLE 2.1 ESE, WA US</td>\n",
       "      <td>2018-03-14</td>\n",
       "      <td>NaN</td>\n",
       "      <td>NaN</td>\n",
       "      <td>0.20</td>\n",
       "      <td>NaN</td>\n",
       "      <td>NaN</td>\n",
       "      <td>NaN</td>\n",
       "      <td>NaN</td>\n",
       "    </tr>\n",
       "    <tr>\n",
       "      <th>11</th>\n",
       "      <td>US1WAKG0225</td>\n",
       "      <td>SEATTLE 2.1 ESE, WA US</td>\n",
       "      <td>2018-03-15</td>\n",
       "      <td>NaN</td>\n",
       "      <td>NaN</td>\n",
       "      <td>0.02</td>\n",
       "      <td>NaN</td>\n",
       "      <td>NaN</td>\n",
       "      <td>NaN</td>\n",
       "      <td>NaN</td>\n",
       "    </tr>\n",
       "    <tr>\n",
       "      <th>12</th>\n",
       "      <td>US1WAKG0225</td>\n",
       "      <td>SEATTLE 2.1 ESE, WA US</td>\n",
       "      <td>2018-03-16</td>\n",
       "      <td>NaN</td>\n",
       "      <td>NaN</td>\n",
       "      <td>0.00</td>\n",
       "      <td>NaN</td>\n",
       "      <td>NaN</td>\n",
       "      <td>NaN</td>\n",
       "      <td>NaN</td>\n",
       "    </tr>\n",
       "    <tr>\n",
       "      <th>13</th>\n",
       "      <td>US1WAKG0225</td>\n",
       "      <td>SEATTLE 2.1 ESE, WA US</td>\n",
       "      <td>2018-03-17</td>\n",
       "      <td>NaN</td>\n",
       "      <td>NaN</td>\n",
       "      <td>0.00</td>\n",
       "      <td>NaN</td>\n",
       "      <td>NaN</td>\n",
       "      <td>NaN</td>\n",
       "      <td>NaN</td>\n",
       "    </tr>\n",
       "    <tr>\n",
       "      <th>14</th>\n",
       "      <td>US1WAKG0225</td>\n",
       "      <td>SEATTLE 2.1 ESE, WA US</td>\n",
       "      <td>2018-03-18</td>\n",
       "      <td>NaN</td>\n",
       "      <td>NaN</td>\n",
       "      <td>0.00</td>\n",
       "      <td>NaN</td>\n",
       "      <td>NaN</td>\n",
       "      <td>NaN</td>\n",
       "      <td>NaN</td>\n",
       "    </tr>\n",
       "    <tr>\n",
       "      <th>15</th>\n",
       "      <td>US1WAKG0225</td>\n",
       "      <td>SEATTLE 2.1 ESE, WA US</td>\n",
       "      <td>2018-03-19</td>\n",
       "      <td>NaN</td>\n",
       "      <td>NaN</td>\n",
       "      <td>0.00</td>\n",
       "      <td>NaN</td>\n",
       "      <td>NaN</td>\n",
       "      <td>NaN</td>\n",
       "      <td>NaN</td>\n",
       "    </tr>\n",
       "    <tr>\n",
       "      <th>16</th>\n",
       "      <td>US1WAKG0225</td>\n",
       "      <td>SEATTLE 2.1 ESE, WA US</td>\n",
       "      <td>2018-03-20</td>\n",
       "      <td>NaN</td>\n",
       "      <td>NaN</td>\n",
       "      <td>0.00</td>\n",
       "      <td>NaN</td>\n",
       "      <td>NaN</td>\n",
       "      <td>NaN</td>\n",
       "      <td>NaN</td>\n",
       "    </tr>\n",
       "    <tr>\n",
       "      <th>17</th>\n",
       "      <td>US1WAKG0225</td>\n",
       "      <td>SEATTLE 2.1 ESE, WA US</td>\n",
       "      <td>2018-03-21</td>\n",
       "      <td>NaN</td>\n",
       "      <td>NaN</td>\n",
       "      <td>0.00</td>\n",
       "      <td>NaN</td>\n",
       "      <td>NaN</td>\n",
       "      <td>NaN</td>\n",
       "      <td>NaN</td>\n",
       "    </tr>\n",
       "    <tr>\n",
       "      <th>18</th>\n",
       "      <td>US1WAKG0225</td>\n",
       "      <td>SEATTLE 2.1 ESE, WA US</td>\n",
       "      <td>2018-03-22</td>\n",
       "      <td>NaN</td>\n",
       "      <td>NaN</td>\n",
       "      <td>0.25</td>\n",
       "      <td>NaN</td>\n",
       "      <td>NaN</td>\n",
       "      <td>NaN</td>\n",
       "      <td>NaN</td>\n",
       "    </tr>\n",
       "    <tr>\n",
       "      <th>19</th>\n",
       "      <td>US1WAKG0225</td>\n",
       "      <td>SEATTLE 2.1 ESE, WA US</td>\n",
       "      <td>2018-03-23</td>\n",
       "      <td>NaN</td>\n",
       "      <td>NaN</td>\n",
       "      <td>0.29</td>\n",
       "      <td>NaN</td>\n",
       "      <td>NaN</td>\n",
       "      <td>NaN</td>\n",
       "      <td>NaN</td>\n",
       "    </tr>\n",
       "    <tr>\n",
       "      <th>20</th>\n",
       "      <td>US1WAKG0225</td>\n",
       "      <td>SEATTLE 2.1 ESE, WA US</td>\n",
       "      <td>2018-03-24</td>\n",
       "      <td>NaN</td>\n",
       "      <td>NaN</td>\n",
       "      <td>0.63</td>\n",
       "      <td>NaN</td>\n",
       "      <td>NaN</td>\n",
       "      <td>NaN</td>\n",
       "      <td>NaN</td>\n",
       "    </tr>\n",
       "    <tr>\n",
       "      <th>21</th>\n",
       "      <td>US1WAKG0225</td>\n",
       "      <td>SEATTLE 2.1 ESE, WA US</td>\n",
       "      <td>2018-03-25</td>\n",
       "      <td>NaN</td>\n",
       "      <td>NaN</td>\n",
       "      <td>0.00</td>\n",
       "      <td>NaN</td>\n",
       "      <td>NaN</td>\n",
       "      <td>NaN</td>\n",
       "      <td>NaN</td>\n",
       "    </tr>\n",
       "    <tr>\n",
       "      <th>22</th>\n",
       "      <td>US1WAKG0225</td>\n",
       "      <td>SEATTLE 2.1 ESE, WA US</td>\n",
       "      <td>2018-03-26</td>\n",
       "      <td>NaN</td>\n",
       "      <td>NaN</td>\n",
       "      <td>0.00</td>\n",
       "      <td>NaN</td>\n",
       "      <td>NaN</td>\n",
       "      <td>NaN</td>\n",
       "      <td>NaN</td>\n",
       "    </tr>\n",
       "    <tr>\n",
       "      <th>23</th>\n",
       "      <td>US1WAKG0225</td>\n",
       "      <td>SEATTLE 2.1 ESE, WA US</td>\n",
       "      <td>2018-03-27</td>\n",
       "      <td>NaN</td>\n",
       "      <td>NaN</td>\n",
       "      <td>0.00</td>\n",
       "      <td>NaN</td>\n",
       "      <td>NaN</td>\n",
       "      <td>NaN</td>\n",
       "      <td>NaN</td>\n",
       "    </tr>\n",
       "    <tr>\n",
       "      <th>24</th>\n",
       "      <td>US1WAKG0225</td>\n",
       "      <td>SEATTLE 2.1 ESE, WA US</td>\n",
       "      <td>2018-03-28</td>\n",
       "      <td>NaN</td>\n",
       "      <td>NaN</td>\n",
       "      <td>0.07</td>\n",
       "      <td>NaN</td>\n",
       "      <td>NaN</td>\n",
       "      <td>NaN</td>\n",
       "      <td>NaN</td>\n",
       "    </tr>\n",
       "    <tr>\n",
       "      <th>25</th>\n",
       "      <td>US1WAKG0225</td>\n",
       "      <td>SEATTLE 2.1 ESE, WA US</td>\n",
       "      <td>2018-03-29</td>\n",
       "      <td>NaN</td>\n",
       "      <td>NaN</td>\n",
       "      <td>0.00</td>\n",
       "      <td>NaN</td>\n",
       "      <td>NaN</td>\n",
       "      <td>NaN</td>\n",
       "      <td>NaN</td>\n",
       "    </tr>\n",
       "    <tr>\n",
       "      <th>26</th>\n",
       "      <td>US1WAKG0225</td>\n",
       "      <td>SEATTLE 2.1 ESE, WA US</td>\n",
       "      <td>2018-03-30</td>\n",
       "      <td>NaN</td>\n",
       "      <td>NaN</td>\n",
       "      <td>0.00</td>\n",
       "      <td>NaN</td>\n",
       "      <td>NaN</td>\n",
       "      <td>NaN</td>\n",
       "      <td>NaN</td>\n",
       "    </tr>\n",
       "    <tr>\n",
       "      <th>27</th>\n",
       "      <td>US1WAKG0225</td>\n",
       "      <td>SEATTLE 2.1 ESE, WA US</td>\n",
       "      <td>2018-03-31</td>\n",
       "      <td>NaN</td>\n",
       "      <td>NaN</td>\n",
       "      <td>0.00</td>\n",
       "      <td>NaN</td>\n",
       "      <td>NaN</td>\n",
       "      <td>NaN</td>\n",
       "      <td>NaN</td>\n",
       "    </tr>\n",
       "    <tr>\n",
       "      <th>28</th>\n",
       "      <td>US1WAKG0225</td>\n",
       "      <td>SEATTLE 2.1 ESE, WA US</td>\n",
       "      <td>2018-04-01</td>\n",
       "      <td>NaN</td>\n",
       "      <td>NaN</td>\n",
       "      <td>0.01</td>\n",
       "      <td>NaN</td>\n",
       "      <td>NaN</td>\n",
       "      <td>NaN</td>\n",
       "      <td>NaN</td>\n",
       "    </tr>\n",
       "    <tr>\n",
       "      <th>29</th>\n",
       "      <td>US1WAKG0225</td>\n",
       "      <td>SEATTLE 2.1 ESE, WA US</td>\n",
       "      <td>2018-04-02</td>\n",
       "      <td>NaN</td>\n",
       "      <td>NaN</td>\n",
       "      <td>0.16</td>\n",
       "      <td>NaN</td>\n",
       "      <td>NaN</td>\n",
       "      <td>NaN</td>\n",
       "      <td>NaN</td>\n",
       "    </tr>\n",
       "  </tbody>\n",
       "</table>\n",
       "</div>"
      ],
      "text/plain": [
       "        STATION                    NAME       DATE  DAPR  MDPR  PRCP  SNOW  \\\n",
       "0   US1WAKG0225  SEATTLE 2.1 ESE, WA US 2018-01-01   NaN   NaN  0.00   NaN   \n",
       "1   US1WAKG0225  SEATTLE 2.1 ESE, WA US 2018-01-02   NaN   NaN  0.00   NaN   \n",
       "2   US1WAKG0225  SEATTLE 2.1 ESE, WA US 2018-01-03   NaN   NaN  0.00   NaN   \n",
       "3   US1WAKG0225  SEATTLE 2.1 ESE, WA US 2018-01-04   NaN   NaN  0.00   NaN   \n",
       "4   US1WAKG0225  SEATTLE 2.1 ESE, WA US 2018-01-05   NaN   NaN  0.25   NaN   \n",
       "5   US1WAKG0225  SEATTLE 2.1 ESE, WA US 2018-01-06   NaN   NaN  0.57   NaN   \n",
       "6   US1WAKG0225  SEATTLE 2.1 ESE, WA US 2018-01-07   NaN   NaN  0.23   NaN   \n",
       "7   US1WAKG0225  SEATTLE 2.1 ESE, WA US 2018-01-08   NaN   NaN  0.41   NaN   \n",
       "8   US1WAKG0225  SEATTLE 2.1 ESE, WA US 2018-03-12   NaN   NaN  0.00   NaN   \n",
       "9   US1WAKG0225  SEATTLE 2.1 ESE, WA US 2018-03-13   NaN   NaN  0.00   NaN   \n",
       "10  US1WAKG0225  SEATTLE 2.1 ESE, WA US 2018-03-14   NaN   NaN  0.20   NaN   \n",
       "11  US1WAKG0225  SEATTLE 2.1 ESE, WA US 2018-03-15   NaN   NaN  0.02   NaN   \n",
       "12  US1WAKG0225  SEATTLE 2.1 ESE, WA US 2018-03-16   NaN   NaN  0.00   NaN   \n",
       "13  US1WAKG0225  SEATTLE 2.1 ESE, WA US 2018-03-17   NaN   NaN  0.00   NaN   \n",
       "14  US1WAKG0225  SEATTLE 2.1 ESE, WA US 2018-03-18   NaN   NaN  0.00   NaN   \n",
       "15  US1WAKG0225  SEATTLE 2.1 ESE, WA US 2018-03-19   NaN   NaN  0.00   NaN   \n",
       "16  US1WAKG0225  SEATTLE 2.1 ESE, WA US 2018-03-20   NaN   NaN  0.00   NaN   \n",
       "17  US1WAKG0225  SEATTLE 2.1 ESE, WA US 2018-03-21   NaN   NaN  0.00   NaN   \n",
       "18  US1WAKG0225  SEATTLE 2.1 ESE, WA US 2018-03-22   NaN   NaN  0.25   NaN   \n",
       "19  US1WAKG0225  SEATTLE 2.1 ESE, WA US 2018-03-23   NaN   NaN  0.29   NaN   \n",
       "20  US1WAKG0225  SEATTLE 2.1 ESE, WA US 2018-03-24   NaN   NaN  0.63   NaN   \n",
       "21  US1WAKG0225  SEATTLE 2.1 ESE, WA US 2018-03-25   NaN   NaN  0.00   NaN   \n",
       "22  US1WAKG0225  SEATTLE 2.1 ESE, WA US 2018-03-26   NaN   NaN  0.00   NaN   \n",
       "23  US1WAKG0225  SEATTLE 2.1 ESE, WA US 2018-03-27   NaN   NaN  0.00   NaN   \n",
       "24  US1WAKG0225  SEATTLE 2.1 ESE, WA US 2018-03-28   NaN   NaN  0.07   NaN   \n",
       "25  US1WAKG0225  SEATTLE 2.1 ESE, WA US 2018-03-29   NaN   NaN  0.00   NaN   \n",
       "26  US1WAKG0225  SEATTLE 2.1 ESE, WA US 2018-03-30   NaN   NaN  0.00   NaN   \n",
       "27  US1WAKG0225  SEATTLE 2.1 ESE, WA US 2018-03-31   NaN   NaN  0.00   NaN   \n",
       "28  US1WAKG0225  SEATTLE 2.1 ESE, WA US 2018-04-01   NaN   NaN  0.01   NaN   \n",
       "29  US1WAKG0225  SEATTLE 2.1 ESE, WA US 2018-04-02   NaN   NaN  0.16   NaN   \n",
       "\n",
       "    SNWD  WESD  WESF  \n",
       "0    NaN   NaN   NaN  \n",
       "1    NaN   NaN   NaN  \n",
       "2    NaN   NaN   NaN  \n",
       "3    NaN   NaN   NaN  \n",
       "4    NaN   NaN   NaN  \n",
       "5    NaN   NaN   NaN  \n",
       "6    NaN   NaN   NaN  \n",
       "7    NaN   NaN   NaN  \n",
       "8    NaN   NaN   NaN  \n",
       "9    NaN   NaN   NaN  \n",
       "10   NaN   NaN   NaN  \n",
       "11   NaN   NaN   NaN  \n",
       "12   NaN   NaN   NaN  \n",
       "13   NaN   NaN   NaN  \n",
       "14   NaN   NaN   NaN  \n",
       "15   NaN   NaN   NaN  \n",
       "16   NaN   NaN   NaN  \n",
       "17   NaN   NaN   NaN  \n",
       "18   NaN   NaN   NaN  \n",
       "19   NaN   NaN   NaN  \n",
       "20   NaN   NaN   NaN  \n",
       "21   NaN   NaN   NaN  \n",
       "22   NaN   NaN   NaN  \n",
       "23   NaN   NaN   NaN  \n",
       "24   NaN   NaN   NaN  \n",
       "25   NaN   NaN   NaN  \n",
       "26   NaN   NaN   NaN  \n",
       "27   NaN   NaN   NaN  \n",
       "28   NaN   NaN   NaN  \n",
       "29   NaN   NaN   NaN  "
      ]
     },
     "execution_count": 53,
     "metadata": {},
     "output_type": "execute_result"
    }
   ],
   "source": [
    "df_seattle.head(30)"
   ]
  },
  {
   "cell_type": "code",
   "execution_count": 55,
   "id": "8a7ae1f3-2c1a-45b9-b748-b7295d881f90",
   "metadata": {},
   "outputs": [
    {
     "data": {
      "image/png": "[encoded data removed]",
      "text/plain": [
       "<Figure size 2000x500 with 1 Axes>"
      ]
     },
     "metadata": {},
     "output_type": "display_data"
    }
   ],
   "source": [
    "plt.figure(figsize=(20, 5))\n",
    "sns.lineplot(data=df_quebec, x=\"DATE\", y=\"PRCP\")\n",
    "\n",
    "plt.xlabel(\"Date\", fontsize=18)\n",
    "plt.ylabel(\"Precipitation (inches)\", fontsize=18)\n",
    "\n",
    "plt.tick_params(labelsize=15)\n",
    "\n",
    "plt.show()"
   ]
  },
  {
   "cell_type": "code",
   "execution_count": 56,
   "id": "010a332b-5863-4e98-853c-ab921027e4ec",
   "metadata": {},
   "outputs": [],
   "source": [
    "#Don't need to filter out extra stations or dates because as we checked earlier, Quebec data set only has 1 station. Also only 1773 rows indicating missing some data \n"
   ]
  },
  {
   "cell_type": "code",
   "execution_count": null,
   "id": "06d620c0-dfe5-4371-9567-6ff4ba846f50",
   "metadata": {},
   "outputs": [],
   "source": []
  },
  {
   "cell_type": "code",
   "execution_count": null,
   "id": "c0833423-75c8-46bd-a1a9-f4e2650bb8ce",
   "metadata": {},
   "outputs": [],
   "source": [
    "#Merging & Tidying Data"
   ]
  },
  {
   "cell_type": "code",
   "execution_count": null,
   "id": "05aae07a-24c1-4c35-be68-ff955686df75",
   "metadata": {},
   "outputs": [],
   "source": []
  },
  {
   "cell_type": "code",
   "execution_count": 57,
   "id": "e0f5a640-4ce3-4f9f-b206-8083682c7721",
   "metadata": {},
   "outputs": [
    {
     "data": {
      "text/html": [
       "<div>\n",
       "<style scoped>\n",
       "    .dataframe tbody tr th:only-of-type {\n",
       "        vertical-align: middle;\n",
       "    }\n",
       "\n",
       "    .dataframe tbody tr th {\n",
       "        vertical-align: top;\n",
       "    }\n",
       "\n",
       "    .dataframe thead th {\n",
       "        text-align: right;\n",
       "    }\n",
       "</style>\n",
       "<table border=\"1\" class=\"dataframe\">\n",
       "  <thead>\n",
       "    <tr style=\"text-align: right;\">\n",
       "      <th></th>\n",
       "      <th>STATION</th>\n",
       "      <th>NAME</th>\n",
       "      <th>DATE</th>\n",
       "      <th>DAPR</th>\n",
       "      <th>MDPR</th>\n",
       "      <th>PRCP</th>\n",
       "      <th>SNOW</th>\n",
       "      <th>SNWD</th>\n",
       "      <th>WESD</th>\n",
       "      <th>WESF</th>\n",
       "    </tr>\n",
       "  </thead>\n",
       "  <tbody>\n",
       "    <tr>\n",
       "      <th>0</th>\n",
       "      <td>US1WAKG0225</td>\n",
       "      <td>SEATTLE 2.1 ESE, WA US</td>\n",
       "      <td>2018-01-01</td>\n",
       "      <td>NaN</td>\n",
       "      <td>NaN</td>\n",
       "      <td>0.0</td>\n",
       "      <td>NaN</td>\n",
       "      <td>NaN</td>\n",
       "      <td>NaN</td>\n",
       "      <td>NaN</td>\n",
       "    </tr>\n",
       "    <tr>\n",
       "      <th>1</th>\n",
       "      <td>US1WAKG0225</td>\n",
       "      <td>SEATTLE 2.1 ESE, WA US</td>\n",
       "      <td>2018-01-02</td>\n",
       "      <td>NaN</td>\n",
       "      <td>NaN</td>\n",
       "      <td>0.0</td>\n",
       "      <td>NaN</td>\n",
       "      <td>NaN</td>\n",
       "      <td>NaN</td>\n",
       "      <td>NaN</td>\n",
       "    </tr>\n",
       "  </tbody>\n",
       "</table>\n",
       "</div>"
      ],
      "text/plain": [
       "       STATION                    NAME       DATE  DAPR  MDPR  PRCP  SNOW  \\\n",
       "0  US1WAKG0225  SEATTLE 2.1 ESE, WA US 2018-01-01   NaN   NaN   0.0   NaN   \n",
       "1  US1WAKG0225  SEATTLE 2.1 ESE, WA US 2018-01-02   NaN   NaN   0.0   NaN   \n",
       "\n",
       "   SNWD  WESD  WESF  \n",
       "0   NaN   NaN   NaN  \n",
       "1   NaN   NaN   NaN  "
      ]
     },
     "execution_count": 57,
     "metadata": {},
     "output_type": "execute_result"
    }
   ],
   "source": [
    "df_seattle.head(2)"
   ]
  },
  {
   "cell_type": "code",
   "execution_count": 58,
   "id": "21b9aed7-35c2-46c5-9b55-71b4752dd1d4",
   "metadata": {},
   "outputs": [
    {
     "data": {
      "text/html": [
       "<div>\n",
       "<style scoped>\n",
       "    .dataframe tbody tr th:only-of-type {\n",
       "        vertical-align: middle;\n",
       "    }\n",
       "\n",
       "    .dataframe tbody tr th {\n",
       "        vertical-align: top;\n",
       "    }\n",
       "\n",
       "    .dataframe thead th {\n",
       "        text-align: right;\n",
       "    }\n",
       "</style>\n",
       "<table border=\"1\" class=\"dataframe\">\n",
       "  <thead>\n",
       "    <tr style=\"text-align: right;\">\n",
       "      <th></th>\n",
       "      <th>STATION</th>\n",
       "      <th>NAME</th>\n",
       "      <th>DATE</th>\n",
       "      <th>DAPR</th>\n",
       "      <th>MDPR</th>\n",
       "      <th>PRCP</th>\n",
       "      <th>SNOW</th>\n",
       "      <th>SNWD</th>\n",
       "    </tr>\n",
       "  </thead>\n",
       "  <tbody>\n",
       "    <tr>\n",
       "      <th>0</th>\n",
       "      <td>CA1PE000010</td>\n",
       "      <td>NEW LONDON 1.6 ENE, PE CA</td>\n",
       "      <td>2018-01-01</td>\n",
       "      <td>NaN</td>\n",
       "      <td>NaN</td>\n",
       "      <td>0.0</td>\n",
       "      <td>0.0</td>\n",
       "      <td>2.5</td>\n",
       "    </tr>\n",
       "    <tr>\n",
       "      <th>1</th>\n",
       "      <td>CA1PE000010</td>\n",
       "      <td>NEW LONDON 1.6 ENE, PE CA</td>\n",
       "      <td>2018-01-02</td>\n",
       "      <td>NaN</td>\n",
       "      <td>NaN</td>\n",
       "      <td>0.0</td>\n",
       "      <td>0.0</td>\n",
       "      <td>2.5</td>\n",
       "    </tr>\n",
       "  </tbody>\n",
       "</table>\n",
       "</div>"
      ],
      "text/plain": [
       "       STATION                       NAME       DATE  DAPR  MDPR  PRCP  SNOW  \\\n",
       "0  CA1PE000010  NEW LONDON 1.6 ENE, PE CA 2018-01-01   NaN   NaN   0.0   0.0   \n",
       "1  CA1PE000010  NEW LONDON 1.6 ENE, PE CA 2018-01-02   NaN   NaN   0.0   0.0   \n",
       "\n",
       "   SNWD  \n",
       "0   2.5  \n",
       "1   2.5  "
      ]
     },
     "execution_count": 58,
     "metadata": {},
     "output_type": "execute_result"
    }
   ],
   "source": [
    "df_quebec.head(2)"
   ]
  },
  {
   "cell_type": "code",
   "execution_count": 60,
   "id": "d0b02988-fbec-4c2b-89c5-4c2ddcb2da8f",
   "metadata": {},
   "outputs": [],
   "source": [
    "df= df_quebec[[\"DATE\", \"PRCP\"]].merge(df_seattle[[\"DATE\", \"PRCP\"]], on=\"DATE\", how= \"outer\")"
   ]
  },
  {
   "cell_type": "code",
   "execution_count": 61,
   "id": "d42d4151-8009-464b-a8c2-8096d826b02b",
   "metadata": {},
   "outputs": [
    {
     "data": {
      "text/html": [
       "<div>\n",
       "<style scoped>\n",
       "    .dataframe tbody tr th:only-of-type {\n",
       "        vertical-align: middle;\n",
       "    }\n",
       "\n",
       "    .dataframe tbody tr th {\n",
       "        vertical-align: top;\n",
       "    }\n",
       "\n",
       "    .dataframe thead th {\n",
       "        text-align: right;\n",
       "    }\n",
       "</style>\n",
       "<table border=\"1\" class=\"dataframe\">\n",
       "  <thead>\n",
       "    <tr style=\"text-align: right;\">\n",
       "      <th></th>\n",
       "      <th>DATE</th>\n",
       "      <th>PRCP_x</th>\n",
       "      <th>PRCP_y</th>\n",
       "    </tr>\n",
       "  </thead>\n",
       "  <tbody>\n",
       "    <tr>\n",
       "      <th>0</th>\n",
       "      <td>2018-01-01</td>\n",
       "      <td>0.0</td>\n",
       "      <td>0.00</td>\n",
       "    </tr>\n",
       "    <tr>\n",
       "      <th>1</th>\n",
       "      <td>2018-01-02</td>\n",
       "      <td>0.0</td>\n",
       "      <td>0.00</td>\n",
       "    </tr>\n",
       "    <tr>\n",
       "      <th>2</th>\n",
       "      <td>2018-01-03</td>\n",
       "      <td>0.0</td>\n",
       "      <td>0.00</td>\n",
       "    </tr>\n",
       "    <tr>\n",
       "      <th>3</th>\n",
       "      <td>2018-01-04</td>\n",
       "      <td>0.0</td>\n",
       "      <td>0.00</td>\n",
       "    </tr>\n",
       "    <tr>\n",
       "      <th>4</th>\n",
       "      <td>2018-01-05</td>\n",
       "      <td>0.9</td>\n",
       "      <td>0.25</td>\n",
       "    </tr>\n",
       "  </tbody>\n",
       "</table>\n",
       "</div>"
      ],
      "text/plain": [
       "        DATE  PRCP_x  PRCP_y\n",
       "0 2018-01-01     0.0    0.00\n",
       "1 2018-01-02     0.0    0.00\n",
       "2 2018-01-03     0.0    0.00\n",
       "3 2018-01-04     0.0    0.00\n",
       "4 2018-01-05     0.9    0.25"
      ]
     },
     "execution_count": 61,
     "metadata": {},
     "output_type": "execute_result"
    }
   ],
   "source": [
    "df.head()"
   ]
  },
  {
   "cell_type": "code",
   "execution_count": 62,
   "id": "4adb7172-f9a0-408c-b1e7-1eb62bb96fca",
   "metadata": {},
   "outputs": [
    {
     "data": {
      "text/html": [
       "<div>\n",
       "<style scoped>\n",
       "    .dataframe tbody tr th:only-of-type {\n",
       "        vertical-align: middle;\n",
       "    }\n",
       "\n",
       "    .dataframe tbody tr th {\n",
       "        vertical-align: top;\n",
       "    }\n",
       "\n",
       "    .dataframe thead th {\n",
       "        text-align: right;\n",
       "    }\n",
       "</style>\n",
       "<table border=\"1\" class=\"dataframe\">\n",
       "  <thead>\n",
       "    <tr style=\"text-align: right;\">\n",
       "      <th></th>\n",
       "      <th>DATE</th>\n",
       "      <th>PRCP_x</th>\n",
       "      <th>PRCP_y</th>\n",
       "    </tr>\n",
       "  </thead>\n",
       "  <tbody>\n",
       "    <tr>\n",
       "      <th>0</th>\n",
       "      <td>2018-01-01</td>\n",
       "      <td>0.00</td>\n",
       "      <td>0.00</td>\n",
       "    </tr>\n",
       "    <tr>\n",
       "      <th>1</th>\n",
       "      <td>2018-01-02</td>\n",
       "      <td>0.00</td>\n",
       "      <td>0.00</td>\n",
       "    </tr>\n",
       "    <tr>\n",
       "      <th>2</th>\n",
       "      <td>2018-01-03</td>\n",
       "      <td>0.00</td>\n",
       "      <td>0.00</td>\n",
       "    </tr>\n",
       "    <tr>\n",
       "      <th>3</th>\n",
       "      <td>2018-01-04</td>\n",
       "      <td>0.00</td>\n",
       "      <td>0.00</td>\n",
       "    </tr>\n",
       "    <tr>\n",
       "      <th>4</th>\n",
       "      <td>2018-01-05</td>\n",
       "      <td>0.90</td>\n",
       "      <td>0.25</td>\n",
       "    </tr>\n",
       "    <tr>\n",
       "      <th>...</th>\n",
       "      <td>...</td>\n",
       "      <td>...</td>\n",
       "      <td>...</td>\n",
       "    </tr>\n",
       "    <tr>\n",
       "      <th>1819</th>\n",
       "      <td>2022-12-27</td>\n",
       "      <td>0.00</td>\n",
       "      <td>0.78</td>\n",
       "    </tr>\n",
       "    <tr>\n",
       "      <th>1820</th>\n",
       "      <td>2022-12-28</td>\n",
       "      <td>0.04</td>\n",
       "      <td>0.40</td>\n",
       "    </tr>\n",
       "    <tr>\n",
       "      <th>1821</th>\n",
       "      <td>2022-12-29</td>\n",
       "      <td>0.01</td>\n",
       "      <td>0.03</td>\n",
       "    </tr>\n",
       "    <tr>\n",
       "      <th>1822</th>\n",
       "      <td>2022-12-30</td>\n",
       "      <td>0.05</td>\n",
       "      <td>0.62</td>\n",
       "    </tr>\n",
       "    <tr>\n",
       "      <th>1823</th>\n",
       "      <td>2022-12-31</td>\n",
       "      <td>0.00</td>\n",
       "      <td>0.17</td>\n",
       "    </tr>\n",
       "  </tbody>\n",
       "</table>\n",
       "<p>1824 rows × 3 columns</p>\n",
       "</div>"
      ],
      "text/plain": [
       "           DATE  PRCP_x  PRCP_y\n",
       "0    2018-01-01    0.00    0.00\n",
       "1    2018-01-02    0.00    0.00\n",
       "2    2018-01-03    0.00    0.00\n",
       "3    2018-01-04    0.00    0.00\n",
       "4    2018-01-05    0.90    0.25\n",
       "...         ...     ...     ...\n",
       "1819 2022-12-27    0.00    0.78\n",
       "1820 2022-12-28    0.04    0.40\n",
       "1821 2022-12-29    0.01    0.03\n",
       "1822 2022-12-30    0.05    0.62\n",
       "1823 2022-12-31    0.00    0.17\n",
       "\n",
       "[1824 rows x 3 columns]"
      ]
     },
     "execution_count": 62,
     "metadata": {},
     "output_type": "execute_result"
    }
   ],
   "source": [
    "df"
   ]
  },
  {
   "cell_type": "code",
   "execution_count": 63,
   "id": "49a596f5-b15a-4780-bf7a-9be24d1358c1",
   "metadata": {},
   "outputs": [],
   "source": [
    "df= pd.melt(df, id_vars=\"DATE\", var_name=\"city\", value_name=\"precipitation\")"
   ]
  },
  {
   "cell_type": "code",
   "execution_count": 64,
   "id": "31ea495a-2481-4b05-a079-02f7ef1155ec",
   "metadata": {},
   "outputs": [
    {
     "data": {
      "text/html": [
       "<div>\n",
       "<style scoped>\n",
       "    .dataframe tbody tr th:only-of-type {\n",
       "        vertical-align: middle;\n",
       "    }\n",
       "\n",
       "    .dataframe tbody tr th {\n",
       "        vertical-align: top;\n",
       "    }\n",
       "\n",
       "    .dataframe thead th {\n",
       "        text-align: right;\n",
       "    }\n",
       "</style>\n",
       "<table border=\"1\" class=\"dataframe\">\n",
       "  <thead>\n",
       "    <tr style=\"text-align: right;\">\n",
       "      <th></th>\n",
       "      <th>DATE</th>\n",
       "      <th>city</th>\n",
       "      <th>precipitation</th>\n",
       "    </tr>\n",
       "  </thead>\n",
       "  <tbody>\n",
       "    <tr>\n",
       "      <th>0</th>\n",
       "      <td>2018-01-01</td>\n",
       "      <td>PRCP_x</td>\n",
       "      <td>0.0</td>\n",
       "    </tr>\n",
       "    <tr>\n",
       "      <th>1</th>\n",
       "      <td>2018-01-02</td>\n",
       "      <td>PRCP_x</td>\n",
       "      <td>0.0</td>\n",
       "    </tr>\n",
       "    <tr>\n",
       "      <th>2</th>\n",
       "      <td>2018-01-03</td>\n",
       "      <td>PRCP_x</td>\n",
       "      <td>0.0</td>\n",
       "    </tr>\n",
       "    <tr>\n",
       "      <th>3</th>\n",
       "      <td>2018-01-04</td>\n",
       "      <td>PRCP_x</td>\n",
       "      <td>0.0</td>\n",
       "    </tr>\n",
       "    <tr>\n",
       "      <th>4</th>\n",
       "      <td>2018-01-05</td>\n",
       "      <td>PRCP_x</td>\n",
       "      <td>0.9</td>\n",
       "    </tr>\n",
       "  </tbody>\n",
       "</table>\n",
       "</div>"
      ],
      "text/plain": [
       "        DATE    city  precipitation\n",
       "0 2018-01-01  PRCP_x            0.0\n",
       "1 2018-01-02  PRCP_x            0.0\n",
       "2 2018-01-03  PRCP_x            0.0\n",
       "3 2018-01-04  PRCP_x            0.0\n",
       "4 2018-01-05  PRCP_x            0.9"
      ]
     },
     "execution_count": 64,
     "metadata": {},
     "output_type": "execute_result"
    }
   ],
   "source": [
    "df.head()"
   ]
  },
  {
   "cell_type": "code",
   "execution_count": 65,
   "id": "6c437a46-c48c-4304-b7c5-d53b26296aa4",
   "metadata": {},
   "outputs": [
    {
     "data": {
      "text/html": [
       "<div>\n",
       "<style scoped>\n",
       "    .dataframe tbody tr th:only-of-type {\n",
       "        vertical-align: middle;\n",
       "    }\n",
       "\n",
       "    .dataframe tbody tr th {\n",
       "        vertical-align: top;\n",
       "    }\n",
       "\n",
       "    .dataframe thead th {\n",
       "        text-align: right;\n",
       "    }\n",
       "</style>\n",
       "<table border=\"1\" class=\"dataframe\">\n",
       "  <thead>\n",
       "    <tr style=\"text-align: right;\">\n",
       "      <th></th>\n",
       "      <th>DATE</th>\n",
       "      <th>city</th>\n",
       "      <th>precipitation</th>\n",
       "    </tr>\n",
       "  </thead>\n",
       "  <tbody>\n",
       "    <tr>\n",
       "      <th>3643</th>\n",
       "      <td>2022-12-27</td>\n",
       "      <td>PRCP_y</td>\n",
       "      <td>0.78</td>\n",
       "    </tr>\n",
       "    <tr>\n",
       "      <th>3644</th>\n",
       "      <td>2022-12-28</td>\n",
       "      <td>PRCP_y</td>\n",
       "      <td>0.40</td>\n",
       "    </tr>\n",
       "    <tr>\n",
       "      <th>3645</th>\n",
       "      <td>2022-12-29</td>\n",
       "      <td>PRCP_y</td>\n",
       "      <td>0.03</td>\n",
       "    </tr>\n",
       "    <tr>\n",
       "      <th>3646</th>\n",
       "      <td>2022-12-30</td>\n",
       "      <td>PRCP_y</td>\n",
       "      <td>0.62</td>\n",
       "    </tr>\n",
       "    <tr>\n",
       "      <th>3647</th>\n",
       "      <td>2022-12-31</td>\n",
       "      <td>PRCP_y</td>\n",
       "      <td>0.17</td>\n",
       "    </tr>\n",
       "  </tbody>\n",
       "</table>\n",
       "</div>"
      ],
      "text/plain": [
       "           DATE    city  precipitation\n",
       "3643 2022-12-27  PRCP_y           0.78\n",
       "3644 2022-12-28  PRCP_y           0.40\n",
       "3645 2022-12-29  PRCP_y           0.03\n",
       "3646 2022-12-30  PRCP_y           0.62\n",
       "3647 2022-12-31  PRCP_y           0.17"
      ]
     },
     "execution_count": 65,
     "metadata": {},
     "output_type": "execute_result"
    }
   ],
   "source": [
    "df.tail()"
   ]
  },
  {
   "cell_type": "code",
   "execution_count": 66,
   "id": "c33d9176-9382-46b2-82bf-1461544fcd78",
   "metadata": {},
   "outputs": [],
   "source": [
    "df.loc[df[\"city\"] == \"PRCP_x\", \"city\"] = \"STL\""
   ]
  },
  {
   "cell_type": "code",
   "execution_count": 67,
   "id": "c322ea39-1286-4aa0-8610-6d28ab177102",
   "metadata": {},
   "outputs": [],
   "source": [
    "df.loc[df[\"city\"] == \"PRCP_y\", \"city\"] = \"YQB\" "
   ]
  },
  {
   "cell_type": "code",
   "execution_count": 68,
   "id": "1fc03d66-3932-4b2d-b27c-99dfc6e820a2",
   "metadata": {},
   "outputs": [
    {
     "data": {
      "text/html": [
       "<div>\n",
       "<style scoped>\n",
       "    .dataframe tbody tr th:only-of-type {\n",
       "        vertical-align: middle;\n",
       "    }\n",
       "\n",
       "    .dataframe tbody tr th {\n",
       "        vertical-align: top;\n",
       "    }\n",
       "\n",
       "    .dataframe thead th {\n",
       "        text-align: right;\n",
       "    }\n",
       "</style>\n",
       "<table border=\"1\" class=\"dataframe\">\n",
       "  <thead>\n",
       "    <tr style=\"text-align: right;\">\n",
       "      <th></th>\n",
       "      <th>DATE</th>\n",
       "      <th>city</th>\n",
       "      <th>precipitation</th>\n",
       "    </tr>\n",
       "  </thead>\n",
       "  <tbody>\n",
       "    <tr>\n",
       "      <th>0</th>\n",
       "      <td>2018-01-01</td>\n",
       "      <td>STL</td>\n",
       "      <td>0.0</td>\n",
       "    </tr>\n",
       "    <tr>\n",
       "      <th>1</th>\n",
       "      <td>2018-01-02</td>\n",
       "      <td>STL</td>\n",
       "      <td>0.0</td>\n",
       "    </tr>\n",
       "    <tr>\n",
       "      <th>2</th>\n",
       "      <td>2018-01-03</td>\n",
       "      <td>STL</td>\n",
       "      <td>0.0</td>\n",
       "    </tr>\n",
       "    <tr>\n",
       "      <th>3</th>\n",
       "      <td>2018-01-04</td>\n",
       "      <td>STL</td>\n",
       "      <td>0.0</td>\n",
       "    </tr>\n",
       "    <tr>\n",
       "      <th>4</th>\n",
       "      <td>2018-01-05</td>\n",
       "      <td>STL</td>\n",
       "      <td>0.9</td>\n",
       "    </tr>\n",
       "  </tbody>\n",
       "</table>\n",
       "</div>"
      ],
      "text/plain": [
       "        DATE city  precipitation\n",
       "0 2018-01-01  STL            0.0\n",
       "1 2018-01-02  STL            0.0\n",
       "2 2018-01-03  STL            0.0\n",
       "3 2018-01-04  STL            0.0\n",
       "4 2018-01-05  STL            0.9"
      ]
     },
     "execution_count": 68,
     "metadata": {},
     "output_type": "execute_result"
    }
   ],
   "source": [
    "df.head()"
   ]
  },
  {
   "cell_type": "code",
   "execution_count": 69,
   "id": "25d7bf21-bdcc-427c-b0b7-4aaa6b15d15b",
   "metadata": {},
   "outputs": [
    {
     "data": {
      "text/html": [
       "<div>\n",
       "<style scoped>\n",
       "    .dataframe tbody tr th:only-of-type {\n",
       "        vertical-align: middle;\n",
       "    }\n",
       "\n",
       "    .dataframe tbody tr th {\n",
       "        vertical-align: top;\n",
       "    }\n",
       "\n",
       "    .dataframe thead th {\n",
       "        text-align: right;\n",
       "    }\n",
       "</style>\n",
       "<table border=\"1\" class=\"dataframe\">\n",
       "  <thead>\n",
       "    <tr style=\"text-align: right;\">\n",
       "      <th></th>\n",
       "      <th>DATE</th>\n",
       "      <th>city</th>\n",
       "      <th>precipitation</th>\n",
       "    </tr>\n",
       "  </thead>\n",
       "  <tbody>\n",
       "    <tr>\n",
       "      <th>3643</th>\n",
       "      <td>2022-12-27</td>\n",
       "      <td>YQB</td>\n",
       "      <td>0.78</td>\n",
       "    </tr>\n",
       "    <tr>\n",
       "      <th>3644</th>\n",
       "      <td>2022-12-28</td>\n",
       "      <td>YQB</td>\n",
       "      <td>0.40</td>\n",
       "    </tr>\n",
       "    <tr>\n",
       "      <th>3645</th>\n",
       "      <td>2022-12-29</td>\n",
       "      <td>YQB</td>\n",
       "      <td>0.03</td>\n",
       "    </tr>\n",
       "    <tr>\n",
       "      <th>3646</th>\n",
       "      <td>2022-12-30</td>\n",
       "      <td>YQB</td>\n",
       "      <td>0.62</td>\n",
       "    </tr>\n",
       "    <tr>\n",
       "      <th>3647</th>\n",
       "      <td>2022-12-31</td>\n",
       "      <td>YQB</td>\n",
       "      <td>0.17</td>\n",
       "    </tr>\n",
       "  </tbody>\n",
       "</table>\n",
       "</div>"
      ],
      "text/plain": [
       "           DATE city  precipitation\n",
       "3643 2022-12-27  YQB           0.78\n",
       "3644 2022-12-28  YQB           0.40\n",
       "3645 2022-12-29  YQB           0.03\n",
       "3646 2022-12-30  YQB           0.62\n",
       "3647 2022-12-31  YQB           0.17"
      ]
     },
     "execution_count": 69,
     "metadata": {},
     "output_type": "execute_result"
    }
   ],
   "source": [
    "df.tail()"
   ]
  },
  {
   "cell_type": "code",
   "execution_count": 70,
   "id": "5b2aaae6-1032-4aaf-a43a-45934bdcd4cd",
   "metadata": {},
   "outputs": [],
   "source": [
    "df = df.rename(columns={\"DATE\": \"date\"})"
   ]
  },
  {
   "cell_type": "code",
   "execution_count": 71,
   "id": "73c6d415-bda7-4b44-95a9-7e0b3197359c",
   "metadata": {},
   "outputs": [
    {
     "data": {
      "text/html": [
       "<div>\n",
       "<style scoped>\n",
       "    .dataframe tbody tr th:only-of-type {\n",
       "        vertical-align: middle;\n",
       "    }\n",
       "\n",
       "    .dataframe tbody tr th {\n",
       "        vertical-align: top;\n",
       "    }\n",
       "\n",
       "    .dataframe thead th {\n",
       "        text-align: right;\n",
       "    }\n",
       "</style>\n",
       "<table border=\"1\" class=\"dataframe\">\n",
       "  <thead>\n",
       "    <tr style=\"text-align: right;\">\n",
       "      <th></th>\n",
       "      <th>date</th>\n",
       "      <th>city</th>\n",
       "      <th>precipitation</th>\n",
       "    </tr>\n",
       "  </thead>\n",
       "  <tbody>\n",
       "    <tr>\n",
       "      <th>0</th>\n",
       "      <td>2018-01-01</td>\n",
       "      <td>STL</td>\n",
       "      <td>0.0</td>\n",
       "    </tr>\n",
       "    <tr>\n",
       "      <th>1</th>\n",
       "      <td>2018-01-02</td>\n",
       "      <td>STL</td>\n",
       "      <td>0.0</td>\n",
       "    </tr>\n",
       "    <tr>\n",
       "      <th>2</th>\n",
       "      <td>2018-01-03</td>\n",
       "      <td>STL</td>\n",
       "      <td>0.0</td>\n",
       "    </tr>\n",
       "    <tr>\n",
       "      <th>3</th>\n",
       "      <td>2018-01-04</td>\n",
       "      <td>STL</td>\n",
       "      <td>0.0</td>\n",
       "    </tr>\n",
       "    <tr>\n",
       "      <th>4</th>\n",
       "      <td>2018-01-05</td>\n",
       "      <td>STL</td>\n",
       "      <td>0.9</td>\n",
       "    </tr>\n",
       "  </tbody>\n",
       "</table>\n",
       "</div>"
      ],
      "text/plain": [
       "        date city  precipitation\n",
       "0 2018-01-01  STL            0.0\n",
       "1 2018-01-02  STL            0.0\n",
       "2 2018-01-03  STL            0.0\n",
       "3 2018-01-04  STL            0.0\n",
       "4 2018-01-05  STL            0.9"
      ]
     },
     "execution_count": 71,
     "metadata": {},
     "output_type": "execute_result"
    }
   ],
   "source": [
    "df.head()"
   ]
  },
  {
   "cell_type": "code",
   "execution_count": null,
   "id": "2fef8281-908d-4681-8237-0ffe14a367f7",
   "metadata": {},
   "outputs": [],
   "source": []
  },
  {
   "cell_type": "code",
   "execution_count": null,
   "id": "13b48fb7-f3c9-48dd-bb87-5ee4cbb051a1",
   "metadata": {},
   "outputs": [],
   "source": [
    "#Data Imputation: identifying and imputing missing values"
   ]
  },
  {
   "cell_type": "code",
   "execution_count": null,
   "id": "bffe7697-1a73-4998-8a05-bf757aa74037",
   "metadata": {},
   "outputs": [],
   "source": []
  },
  {
   "cell_type": "code",
   "execution_count": 72,
   "id": "885bf96e-195c-41ba-8e8e-c1d9f449cf68",
   "metadata": {},
   "outputs": [
    {
     "name": "stdout",
     "output_type": "stream",
     "text": [
      "<class 'pandas.core.frame.DataFrame'>\n",
      "RangeIndex: 3648 entries, 0 to 3647\n",
      "Data columns (total 3 columns):\n",
      " #   Column         Non-Null Count  Dtype         \n",
      "---  ------         --------------  -----         \n",
      " 0   date           3648 non-null   datetime64[ns]\n",
      " 1   city           3648 non-null   object        \n",
      " 2   precipitation  3401 non-null   float64       \n",
      "dtypes: datetime64[ns](1), float64(1), object(1)\n",
      "memory usage: 85.6+ KB\n"
     ]
    }
   ],
   "source": [
    "df.info()"
   ]
  },
  {
   "cell_type": "code",
   "execution_count": 73,
   "id": "cc1cb0d3-f15d-4ebb-b480-3e3897e9aa20",
   "metadata": {},
   "outputs": [
    {
     "data": {
      "text/plain": [
       "date             3648\n",
       "city             3648\n",
       "precipitation    3401\n",
       "dtype: int64"
      ]
     },
     "execution_count": 73,
     "metadata": {},
     "output_type": "execute_result"
    }
   ],
   "source": [
    "df.notna().sum()"
   ]
  },
  {
   "cell_type": "code",
   "execution_count": 74,
   "id": "34053e5b-7116-4871-9ee2-2b221a817b8f",
   "metadata": {},
   "outputs": [
    {
     "data": {
      "text/plain": [
       "date               0\n",
       "city               0\n",
       "precipitation    247\n",
       "dtype: int64"
      ]
     },
     "execution_count": 74,
     "metadata": {},
     "output_type": "execute_result"
    }
   ],
   "source": [
    "df.isna().sum()"
   ]
  },
  {
   "cell_type": "code",
   "execution_count": 75,
   "id": "91a3e7f2-9a40-4534-b042-03290712815d",
   "metadata": {},
   "outputs": [
    {
     "data": {
      "text/plain": [
       "np.int64(0)"
      ]
     },
     "execution_count": 75,
     "metadata": {},
     "output_type": "execute_result"
    }
   ],
   "source": [
    "df.loc[df[\"city\"] == \"SEA\", \"precipitation\"].isna().sum()"
   ]
  },
  {
   "cell_type": "code",
   "execution_count": 76,
   "id": "2d221a5c-af4b-46cf-9cd8-5a0f8b8caad2",
   "metadata": {},
   "outputs": [
    {
     "data": {
      "text/plain": [
       "np.int64(188)"
      ]
     },
     "execution_count": 76,
     "metadata": {},
     "output_type": "execute_result"
    }
   ],
   "source": [
    "df.loc[df[\"city\"] == \"YQB\", \"precipitation\"].isna().sum()"
   ]
  },
  {
   "cell_type": "code",
   "execution_count": 77,
   "id": "4058a5ae-db34-4d11-a98b-c5780663a7fc",
   "metadata": {},
   "outputs": [],
   "source": [
    "#Over 5 years there should be 5X365 +1 =1826 days."
   ]
  },
  {
   "cell_type": "code",
   "execution_count": 78,
   "id": "4202dedd-4434-4ebc-a87c-453b2729aefd",
   "metadata": {},
   "outputs": [],
   "source": [
    "#Oops I switched the two data sets. Quebec is incorrectly labeled as \"SEA\" and Seattle labeled as \"YQB\""
   ]
  },
  {
   "cell_type": "code",
   "execution_count": 79,
   "id": "d25d1e27-f648-4725-9e78-e6cb3dea608e",
   "metadata": {},
   "outputs": [],
   "source": [
    "df.loc[df[\"city\"] == \"PRCP_x\", \"city\"] = \"YQB\""
   ]
  },
  {
   "cell_type": "code",
   "execution_count": 80,
   "id": "053e8b48-eea0-41b4-8730-756249fa0fc8",
   "metadata": {},
   "outputs": [],
   "source": [
    "df.loc[df[\"city\"] == \"PRCP_y\", \"city\"] = \"SEA\" "
   ]
  },
  {
   "cell_type": "code",
   "execution_count": 81,
   "id": "1ecd4339-019a-4811-b442-e6a19e2f57e7",
   "metadata": {},
   "outputs": [
    {
     "data": {
      "text/html": [
       "<div>\n",
       "<style scoped>\n",
       "    .dataframe tbody tr th:only-of-type {\n",
       "        vertical-align: middle;\n",
       "    }\n",
       "\n",
       "    .dataframe tbody tr th {\n",
       "        vertical-align: top;\n",
       "    }\n",
       "\n",
       "    .dataframe thead th {\n",
       "        text-align: right;\n",
       "    }\n",
       "</style>\n",
       "<table border=\"1\" class=\"dataframe\">\n",
       "  <thead>\n",
       "    <tr style=\"text-align: right;\">\n",
       "      <th></th>\n",
       "      <th>date</th>\n",
       "      <th>city</th>\n",
       "      <th>precipitation</th>\n",
       "    </tr>\n",
       "  </thead>\n",
       "  <tbody>\n",
       "    <tr>\n",
       "      <th>0</th>\n",
       "      <td>2018-01-01</td>\n",
       "      <td>STL</td>\n",
       "      <td>0.0</td>\n",
       "    </tr>\n",
       "    <tr>\n",
       "      <th>1</th>\n",
       "      <td>2018-01-02</td>\n",
       "      <td>STL</td>\n",
       "      <td>0.0</td>\n",
       "    </tr>\n",
       "    <tr>\n",
       "      <th>2</th>\n",
       "      <td>2018-01-03</td>\n",
       "      <td>STL</td>\n",
       "      <td>0.0</td>\n",
       "    </tr>\n",
       "    <tr>\n",
       "      <th>3</th>\n",
       "      <td>2018-01-04</td>\n",
       "      <td>STL</td>\n",
       "      <td>0.0</td>\n",
       "    </tr>\n",
       "    <tr>\n",
       "      <th>4</th>\n",
       "      <td>2018-01-05</td>\n",
       "      <td>STL</td>\n",
       "      <td>0.9</td>\n",
       "    </tr>\n",
       "  </tbody>\n",
       "</table>\n",
       "</div>"
      ],
      "text/plain": [
       "        date city  precipitation\n",
       "0 2018-01-01  STL            0.0\n",
       "1 2018-01-02  STL            0.0\n",
       "2 2018-01-03  STL            0.0\n",
       "3 2018-01-04  STL            0.0\n",
       "4 2018-01-05  STL            0.9"
      ]
     },
     "execution_count": 81,
     "metadata": {},
     "output_type": "execute_result"
    }
   ],
   "source": [
    "df.head()"
   ]
  },
  {
   "cell_type": "code",
   "execution_count": 82,
   "id": "1089774c-23b6-445b-9315-ba35fb207051",
   "metadata": {},
   "outputs": [],
   "source": [
    "df= df_quebec[[\"DATE\", \"PRCP\"]].merge(df_seattle[[\"DATE\", \"PRCP\"]], on=\"DATE\", how= \"outer\")"
   ]
  },
  {
   "cell_type": "code",
   "execution_count": 83,
   "id": "97de051b-ecf8-4b2d-ae4f-cb3afcd34ce9",
   "metadata": {},
   "outputs": [
    {
     "data": {
      "text/html": [
       "<div>\n",
       "<style scoped>\n",
       "    .dataframe tbody tr th:only-of-type {\n",
       "        vertical-align: middle;\n",
       "    }\n",
       "\n",
       "    .dataframe tbody tr th {\n",
       "        vertical-align: top;\n",
       "    }\n",
       "\n",
       "    .dataframe thead th {\n",
       "        text-align: right;\n",
       "    }\n",
       "</style>\n",
       "<table border=\"1\" class=\"dataframe\">\n",
       "  <thead>\n",
       "    <tr style=\"text-align: right;\">\n",
       "      <th></th>\n",
       "      <th>DATE</th>\n",
       "      <th>PRCP_x</th>\n",
       "      <th>PRCP_y</th>\n",
       "    </tr>\n",
       "  </thead>\n",
       "  <tbody>\n",
       "    <tr>\n",
       "      <th>0</th>\n",
       "      <td>2018-01-01</td>\n",
       "      <td>0.0</td>\n",
       "      <td>0.00</td>\n",
       "    </tr>\n",
       "    <tr>\n",
       "      <th>1</th>\n",
       "      <td>2018-01-02</td>\n",
       "      <td>0.0</td>\n",
       "      <td>0.00</td>\n",
       "    </tr>\n",
       "    <tr>\n",
       "      <th>2</th>\n",
       "      <td>2018-01-03</td>\n",
       "      <td>0.0</td>\n",
       "      <td>0.00</td>\n",
       "    </tr>\n",
       "    <tr>\n",
       "      <th>3</th>\n",
       "      <td>2018-01-04</td>\n",
       "      <td>0.0</td>\n",
       "      <td>0.00</td>\n",
       "    </tr>\n",
       "    <tr>\n",
       "      <th>4</th>\n",
       "      <td>2018-01-05</td>\n",
       "      <td>0.9</td>\n",
       "      <td>0.25</td>\n",
       "    </tr>\n",
       "  </tbody>\n",
       "</table>\n",
       "</div>"
      ],
      "text/plain": [
       "        DATE  PRCP_x  PRCP_y\n",
       "0 2018-01-01     0.0    0.00\n",
       "1 2018-01-02     0.0    0.00\n",
       "2 2018-01-03     0.0    0.00\n",
       "3 2018-01-04     0.0    0.00\n",
       "4 2018-01-05     0.9    0.25"
      ]
     },
     "execution_count": 83,
     "metadata": {},
     "output_type": "execute_result"
    }
   ],
   "source": [
    "df.head()"
   ]
  },
  {
   "cell_type": "code",
   "execution_count": 84,
   "id": "761efb83-cb2f-4b37-a3f6-8aae3258df66",
   "metadata": {},
   "outputs": [],
   "source": [
    "df= pd.melt(df, id_vars=\"DATE\", var_name=\"city\", value_name=\"precipitation\")"
   ]
  },
  {
   "cell_type": "code",
   "execution_count": 85,
   "id": "4d6d2939-8914-4859-a5f2-17c764af57a8",
   "metadata": {},
   "outputs": [
    {
     "data": {
      "text/html": [
       "<div>\n",
       "<style scoped>\n",
       "    .dataframe tbody tr th:only-of-type {\n",
       "        vertical-align: middle;\n",
       "    }\n",
       "\n",
       "    .dataframe tbody tr th {\n",
       "        vertical-align: top;\n",
       "    }\n",
       "\n",
       "    .dataframe thead th {\n",
       "        text-align: right;\n",
       "    }\n",
       "</style>\n",
       "<table border=\"1\" class=\"dataframe\">\n",
       "  <thead>\n",
       "    <tr style=\"text-align: right;\">\n",
       "      <th></th>\n",
       "      <th>DATE</th>\n",
       "      <th>city</th>\n",
       "      <th>precipitation</th>\n",
       "    </tr>\n",
       "  </thead>\n",
       "  <tbody>\n",
       "    <tr>\n",
       "      <th>0</th>\n",
       "      <td>2018-01-01</td>\n",
       "      <td>PRCP_x</td>\n",
       "      <td>0.0</td>\n",
       "    </tr>\n",
       "    <tr>\n",
       "      <th>1</th>\n",
       "      <td>2018-01-02</td>\n",
       "      <td>PRCP_x</td>\n",
       "      <td>0.0</td>\n",
       "    </tr>\n",
       "    <tr>\n",
       "      <th>2</th>\n",
       "      <td>2018-01-03</td>\n",
       "      <td>PRCP_x</td>\n",
       "      <td>0.0</td>\n",
       "    </tr>\n",
       "    <tr>\n",
       "      <th>3</th>\n",
       "      <td>2018-01-04</td>\n",
       "      <td>PRCP_x</td>\n",
       "      <td>0.0</td>\n",
       "    </tr>\n",
       "    <tr>\n",
       "      <th>4</th>\n",
       "      <td>2018-01-05</td>\n",
       "      <td>PRCP_x</td>\n",
       "      <td>0.9</td>\n",
       "    </tr>\n",
       "  </tbody>\n",
       "</table>\n",
       "</div>"
      ],
      "text/plain": [
       "        DATE    city  precipitation\n",
       "0 2018-01-01  PRCP_x            0.0\n",
       "1 2018-01-02  PRCP_x            0.0\n",
       "2 2018-01-03  PRCP_x            0.0\n",
       "3 2018-01-04  PRCP_x            0.0\n",
       "4 2018-01-05  PRCP_x            0.9"
      ]
     },
     "execution_count": 85,
     "metadata": {},
     "output_type": "execute_result"
    }
   ],
   "source": [
    "df.head()"
   ]
  },
  {
   "cell_type": "code",
   "execution_count": 86,
   "id": "7998917c-e72e-4a21-bf0c-e4e1ea860e51",
   "metadata": {},
   "outputs": [],
   "source": [
    "df.loc[df[\"city\"] == \"PRCP_x\", \"city\"] = \"YQB\""
   ]
  },
  {
   "cell_type": "code",
   "execution_count": 87,
   "id": "47a698d3-6172-410e-9e6a-6041f6df487e",
   "metadata": {},
   "outputs": [],
   "source": [
    "df.loc[df[\"city\"] == \"PRCP_y\", \"city\"] = \"SEA\" "
   ]
  },
  {
   "cell_type": "code",
   "execution_count": 88,
   "id": "e2a72c36-7c94-4211-931d-37acbf4a0e7f",
   "metadata": {},
   "outputs": [
    {
     "data": {
      "text/html": [
       "<div>\n",
       "<style scoped>\n",
       "    .dataframe tbody tr th:only-of-type {\n",
       "        vertical-align: middle;\n",
       "    }\n",
       "\n",
       "    .dataframe tbody tr th {\n",
       "        vertical-align: top;\n",
       "    }\n",
       "\n",
       "    .dataframe thead th {\n",
       "        text-align: right;\n",
       "    }\n",
       "</style>\n",
       "<table border=\"1\" class=\"dataframe\">\n",
       "  <thead>\n",
       "    <tr style=\"text-align: right;\">\n",
       "      <th></th>\n",
       "      <th>DATE</th>\n",
       "      <th>city</th>\n",
       "      <th>precipitation</th>\n",
       "    </tr>\n",
       "  </thead>\n",
       "  <tbody>\n",
       "    <tr>\n",
       "      <th>0</th>\n",
       "      <td>2018-01-01</td>\n",
       "      <td>YQB</td>\n",
       "      <td>0.0</td>\n",
       "    </tr>\n",
       "    <tr>\n",
       "      <th>1</th>\n",
       "      <td>2018-01-02</td>\n",
       "      <td>YQB</td>\n",
       "      <td>0.0</td>\n",
       "    </tr>\n",
       "    <tr>\n",
       "      <th>2</th>\n",
       "      <td>2018-01-03</td>\n",
       "      <td>YQB</td>\n",
       "      <td>0.0</td>\n",
       "    </tr>\n",
       "    <tr>\n",
       "      <th>3</th>\n",
       "      <td>2018-01-04</td>\n",
       "      <td>YQB</td>\n",
       "      <td>0.0</td>\n",
       "    </tr>\n",
       "    <tr>\n",
       "      <th>4</th>\n",
       "      <td>2018-01-05</td>\n",
       "      <td>YQB</td>\n",
       "      <td>0.9</td>\n",
       "    </tr>\n",
       "  </tbody>\n",
       "</table>\n",
       "</div>"
      ],
      "text/plain": [
       "        DATE city  precipitation\n",
       "0 2018-01-01  YQB            0.0\n",
       "1 2018-01-02  YQB            0.0\n",
       "2 2018-01-03  YQB            0.0\n",
       "3 2018-01-04  YQB            0.0\n",
       "4 2018-01-05  YQB            0.9"
      ]
     },
     "execution_count": 88,
     "metadata": {},
     "output_type": "execute_result"
    }
   ],
   "source": [
    "df.head()"
   ]
  },
  {
   "cell_type": "code",
   "execution_count": 89,
   "id": "612583fb-717d-4878-a4a6-2e46a768e196",
   "metadata": {},
   "outputs": [
    {
     "data": {
      "text/plain": [
       "np.int64(188)"
      ]
     },
     "execution_count": 89,
     "metadata": {},
     "output_type": "execute_result"
    }
   ],
   "source": [
    "df.loc[df[\"city\"] == \"SEA\", \"precipitation\"].isna().sum()"
   ]
  },
  {
   "cell_type": "code",
   "execution_count": 90,
   "id": "4b331997-f8b8-4f5c-90cd-8c60b22b0bd6",
   "metadata": {},
   "outputs": [
    {
     "data": {
      "text/plain": [
       "np.int64(59)"
      ]
     },
     "execution_count": 90,
     "metadata": {},
     "output_type": "execute_result"
    }
   ],
   "source": [
    "df.loc[df[\"city\"] == \"YQB\", \"precipitation\"].isna().sum()"
   ]
  },
  {
   "cell_type": "code",
   "execution_count": 91,
   "id": "bbc70879-c976-41cf-983f-a92910fd369a",
   "metadata": {},
   "outputs": [
    {
     "data": {
      "text/plain": [
       "DATE               0\n",
       "city               0\n",
       "precipitation    247\n",
       "dtype: int64"
      ]
     },
     "execution_count": 91,
     "metadata": {},
     "output_type": "execute_result"
    }
   ],
   "source": [
    "df.isna().sum()"
   ]
  },
  {
   "cell_type": "code",
   "execution_count": 92,
   "id": "63f9c65b-0c25-440b-b06a-160c53971fb8",
   "metadata": {},
   "outputs": [],
   "source": [
    "#Should be 1826 values"
   ]
  },
  {
   "cell_type": "code",
   "execution_count": 93,
   "id": "408382b2-b022-4b74-a790-3c25121a1345",
   "metadata": {},
   "outputs": [],
   "source": [
    "#Missing precipitation values for both SEA and YQB"
   ]
  },
  {
   "cell_type": "code",
   "execution_count": 96,
   "id": "af889312-8957-4012-89aa-c4a0d1d3c7e4",
   "metadata": {},
   "outputs": [],
   "source": [
    "df = df.rename(columns={\"DATE\": \"date\"})"
   ]
  },
  {
   "cell_type": "code",
   "execution_count": 97,
   "id": "1be64724-fea4-4a9e-9598-51997f315c30",
   "metadata": {},
   "outputs": [],
   "source": [
    "df[\"day_of_year\"] = pd.DatetimeIndex(df[\"date\"]).day_of_year"
   ]
  },
  {
   "cell_type": "code",
   "execution_count": 98,
   "id": "b2c87c12-169b-41bf-bb5f-7d10acd2e138",
   "metadata": {},
   "outputs": [
    {
     "data": {
      "text/html": [
       "<div>\n",
       "<style scoped>\n",
       "    .dataframe tbody tr th:only-of-type {\n",
       "        vertical-align: middle;\n",
       "    }\n",
       "\n",
       "    .dataframe tbody tr th {\n",
       "        vertical-align: top;\n",
       "    }\n",
       "\n",
       "    .dataframe thead th {\n",
       "        text-align: right;\n",
       "    }\n",
       "</style>\n",
       "<table border=\"1\" class=\"dataframe\">\n",
       "  <thead>\n",
       "    <tr style=\"text-align: right;\">\n",
       "      <th></th>\n",
       "      <th>date</th>\n",
       "      <th>city</th>\n",
       "      <th>precipitation</th>\n",
       "      <th>day_of_year</th>\n",
       "    </tr>\n",
       "  </thead>\n",
       "  <tbody>\n",
       "    <tr>\n",
       "      <th>0</th>\n",
       "      <td>2018-01-01</td>\n",
       "      <td>YQB</td>\n",
       "      <td>0.00</td>\n",
       "      <td>1</td>\n",
       "    </tr>\n",
       "    <tr>\n",
       "      <th>1</th>\n",
       "      <td>2018-01-02</td>\n",
       "      <td>YQB</td>\n",
       "      <td>0.00</td>\n",
       "      <td>2</td>\n",
       "    </tr>\n",
       "    <tr>\n",
       "      <th>2</th>\n",
       "      <td>2018-01-03</td>\n",
       "      <td>YQB</td>\n",
       "      <td>0.00</td>\n",
       "      <td>3</td>\n",
       "    </tr>\n",
       "    <tr>\n",
       "      <th>3</th>\n",
       "      <td>2018-01-04</td>\n",
       "      <td>YQB</td>\n",
       "      <td>0.00</td>\n",
       "      <td>4</td>\n",
       "    </tr>\n",
       "    <tr>\n",
       "      <th>4</th>\n",
       "      <td>2018-01-05</td>\n",
       "      <td>YQB</td>\n",
       "      <td>0.90</td>\n",
       "      <td>5</td>\n",
       "    </tr>\n",
       "    <tr>\n",
       "      <th>5</th>\n",
       "      <td>2018-01-06</td>\n",
       "      <td>YQB</td>\n",
       "      <td>0.00</td>\n",
       "      <td>6</td>\n",
       "    </tr>\n",
       "    <tr>\n",
       "      <th>6</th>\n",
       "      <td>2018-01-07</td>\n",
       "      <td>YQB</td>\n",
       "      <td>0.00</td>\n",
       "      <td>7</td>\n",
       "    </tr>\n",
       "    <tr>\n",
       "      <th>7</th>\n",
       "      <td>2018-01-08</td>\n",
       "      <td>YQB</td>\n",
       "      <td>0.03</td>\n",
       "      <td>8</td>\n",
       "    </tr>\n",
       "    <tr>\n",
       "      <th>8</th>\n",
       "      <td>2018-01-09</td>\n",
       "      <td>YQB</td>\n",
       "      <td>0.11</td>\n",
       "      <td>9</td>\n",
       "    </tr>\n",
       "    <tr>\n",
       "      <th>9</th>\n",
       "      <td>2018-01-10</td>\n",
       "      <td>YQB</td>\n",
       "      <td>0.01</td>\n",
       "      <td>10</td>\n",
       "    </tr>\n",
       "  </tbody>\n",
       "</table>\n",
       "</div>"
      ],
      "text/plain": [
       "        date city  precipitation  day_of_year\n",
       "0 2018-01-01  YQB           0.00            1\n",
       "1 2018-01-02  YQB           0.00            2\n",
       "2 2018-01-03  YQB           0.00            3\n",
       "3 2018-01-04  YQB           0.00            4\n",
       "4 2018-01-05  YQB           0.90            5\n",
       "5 2018-01-06  YQB           0.00            6\n",
       "6 2018-01-07  YQB           0.00            7\n",
       "7 2018-01-08  YQB           0.03            8\n",
       "8 2018-01-09  YQB           0.11            9\n",
       "9 2018-01-10  YQB           0.01           10"
      ]
     },
     "execution_count": 98,
     "metadata": {},
     "output_type": "execute_result"
    }
   ],
   "source": [
    "df.head(10)"
   ]
  },
  {
   "cell_type": "code",
   "execution_count": 101,
   "id": "de2ecc15-abbd-40a5-80d6-11881dbc209c",
   "metadata": {},
   "outputs": [],
   "source": [
    "mean_day_precipitation = df.loc[\n",
    "    df[\"city\"] == \"SEA\",  \n",
    "    [\"precipitation\", \"day_of_year\"]\n",
    "].groupby(\n",
    "    \"day_of_year\"\n",
    ").mean()  "
   ]
  },
  {
   "cell_type": "code",
   "execution_count": 103,
   "id": "e8d4b4a6-84b3-4eaf-889a-a3b9af17352c",
   "metadata": {},
   "outputs": [
    {
     "data": {
      "image/png": "[encoded data removed]",
      "text/plain": [
       "<Figure size 2000x500 with 1 Axes>"
      ]
     },
     "metadata": {},
     "output_type": "display_data"
    }
   ],
   "source": [
    "plt.figure(figsize=(20, 5))\n",
    "\n",
    "sns.lineplot(data= mean_day_precipitation, x= \"day_of_year\", y=\"precipitation\")\n",
    "\n",
    "plt.xlabel(\"Day of Year\", fontsize= 18)\n",
    "plt.ylabel(\"Mean precipitation (inches)\", fontsize=18)\n",
    "\n",
    "plt.tick_params(labelsize=15)\n",
    "plt.show()"
   ]
  },
  {
   "cell_type": "code",
   "execution_count": 104,
   "id": "4e8e4b9f-9c34-46e6-bfc6-134aea960ee4",
   "metadata": {},
   "outputs": [
    {
     "data": {
      "text/html": [
       "<div>\n",
       "<style scoped>\n",
       "    .dataframe tbody tr th:only-of-type {\n",
       "        vertical-align: middle;\n",
       "    }\n",
       "\n",
       "    .dataframe tbody tr th {\n",
       "        vertical-align: top;\n",
       "    }\n",
       "\n",
       "    .dataframe thead th {\n",
       "        text-align: right;\n",
       "    }\n",
       "</style>\n",
       "<table border=\"1\" class=\"dataframe\">\n",
       "  <thead>\n",
       "    <tr style=\"text-align: right;\">\n",
       "      <th></th>\n",
       "      <th>date</th>\n",
       "      <th>city</th>\n",
       "      <th>precipitation</th>\n",
       "      <th>day_of_year</th>\n",
       "    </tr>\n",
       "  </thead>\n",
       "  <tbody>\n",
       "    <tr>\n",
       "      <th>0</th>\n",
       "      <td>2018-01-01</td>\n",
       "      <td>YQB</td>\n",
       "      <td>0.0</td>\n",
       "      <td>1</td>\n",
       "    </tr>\n",
       "    <tr>\n",
       "      <th>1</th>\n",
       "      <td>2018-01-02</td>\n",
       "      <td>YQB</td>\n",
       "      <td>0.0</td>\n",
       "      <td>2</td>\n",
       "    </tr>\n",
       "    <tr>\n",
       "      <th>2</th>\n",
       "      <td>2018-01-03</td>\n",
       "      <td>YQB</td>\n",
       "      <td>0.0</td>\n",
       "      <td>3</td>\n",
       "    </tr>\n",
       "    <tr>\n",
       "      <th>3</th>\n",
       "      <td>2018-01-04</td>\n",
       "      <td>YQB</td>\n",
       "      <td>0.0</td>\n",
       "      <td>4</td>\n",
       "    </tr>\n",
       "    <tr>\n",
       "      <th>4</th>\n",
       "      <td>2018-01-05</td>\n",
       "      <td>YQB</td>\n",
       "      <td>0.9</td>\n",
       "      <td>5</td>\n",
       "    </tr>\n",
       "  </tbody>\n",
       "</table>\n",
       "</div>"
      ],
      "text/plain": [
       "        date city  precipitation  day_of_year\n",
       "0 2018-01-01  YQB            0.0            1\n",
       "1 2018-01-02  YQB            0.0            2\n",
       "2 2018-01-03  YQB            0.0            3\n",
       "3 2018-01-04  YQB            0.0            4\n",
       "4 2018-01-05  YQB            0.9            5"
      ]
     },
     "execution_count": 104,
     "metadata": {},
     "output_type": "execute_result"
    }
   ],
   "source": [
    "df.head()"
   ]
  },
  {
   "cell_type": "code",
   "execution_count": 105,
   "id": "2e6c995c-989f-4c4d-871f-a64847861086",
   "metadata": {},
   "outputs": [
    {
     "data": {
      "text/plain": [
       "0       False\n",
       "1       False\n",
       "2       False\n",
       "3       False\n",
       "4       False\n",
       "        ...  \n",
       "3643    False\n",
       "3644    False\n",
       "3645    False\n",
       "3646    False\n",
       "3647    False\n",
       "Name: precipitation, Length: 3648, dtype: bool"
      ]
     },
     "execution_count": 105,
     "metadata": {},
     "output_type": "execute_result"
    }
   ],
   "source": [
    "df[\"precipitation\"].isna() == True\n"
   ]
  },
  {
   "cell_type": "code",
   "execution_count": 108,
   "id": "a43dfb16-43ac-40d1-99cb-4362a22fcfd0",
   "metadata": {},
   "outputs": [],
   "source": [
    "indices = np.where(df[\"precipitation\"].isna() == True)[0]"
   ]
  },
  {
   "cell_type": "code",
   "execution_count": 109,
   "id": "d94be95d-2703-4179-9315-4688e9f49214",
   "metadata": {},
   "outputs": [
    {
     "data": {
      "text/plain": [
       "array([ 129,  197,  223,  233,  234,  235,  236,  237,  238,  239,  240,\n",
       "        241,  242,  243,  244,  245,  246,  247,  248,  249,  250,  290,\n",
       "        291,  292,  293,  294,  332,  333,  334,  381,  382,  383,  444,\n",
       "        497,  498,  499,  500,  501,  502,  503,  504,  505,  606,  608,\n",
       "        614,  615,  669,  670,  671,  672,  673,  674, 1265, 1345, 1372,\n",
       "       1375, 1725, 1726, 1727, 1832, 1833, 1834, 1835, 1836, 1837, 1838,\n",
       "       1839, 1840, 1841, 1842, 1843, 1844, 1845, 1846, 1847, 1848, 1849,\n",
       "       1850, 1851, 1852, 1853, 1854, 1855, 1856, 1857, 1858, 1859, 1860,\n",
       "       1861, 1862, 1863, 1864, 1865, 1866, 1867, 1868, 1869, 1870, 1871,\n",
       "       1872, 1873, 1874, 1875, 1876, 1877, 1878, 1879, 1880, 1881, 1882,\n",
       "       1883, 1884, 1885, 1886, 1887, 1888, 1889, 1890, 1891, 1892, 1893,\n",
       "       2088, 2129, 2130, 2131, 2132, 2133, 2134, 2135, 2136, 2137, 2138,\n",
       "       2193, 2194, 2195, 2212, 2213, 2242, 2243, 2244, 2245, 2246, 2247,\n",
       "       2284, 2285, 2286, 2360, 2361, 2366, 2367, 2368, 2369, 2370, 2371,\n",
       "       2372, 2373, 2374, 2414, 2415, 2416, 2417, 2418, 2419, 2420, 2514,\n",
       "       2515, 2516, 2517, 2518, 2519, 2520, 2521, 2556, 2557, 2558, 2599,\n",
       "       2600, 2601, 2602, 2603, 2604, 2605, 2606, 2607, 2608, 2609, 2815,\n",
       "       2816, 2817, 2818, 2819, 2820, 2821, 2822, 2823, 2968, 2969, 2970,\n",
       "       2971, 2979, 2980, 2982, 2983, 2984, 2996, 2997, 3000, 3001, 3002,\n",
       "       3003, 3004, 3007, 3008, 3009, 3010, 3011, 3012, 3129, 3130, 3131,\n",
       "       3143, 3144, 3145, 3146, 3147, 3148, 3149, 3150, 3151, 3152, 3153,\n",
       "       3154, 3155, 3156, 3157, 3158, 3159, 3359, 3360, 3361, 3362, 3363,\n",
       "       3364, 3365, 3366, 3367, 3368])"
      ]
     },
     "execution_count": 109,
     "metadata": {},
     "output_type": "execute_result"
    }
   ],
   "source": [
    "indices"
   ]
  },
  {
   "cell_type": "code",
   "execution_count": 110,
   "id": "fe98985b-27de-4931-8d2f-0ce5e04b1bdf",
   "metadata": {},
   "outputs": [],
   "source": [
    "for index in indices:\n",
    "    df.loc[index, \"precipitation\"] = mean_day_precipitation.loc[df.loc[index, \"day_of_year\"]].values[0]"
   ]
  },
  {
   "cell_type": "code",
   "execution_count": 111,
   "id": "1db817fa-ea51-47d0-abe8-4861658c7dc4",
   "metadata": {},
   "outputs": [
    {
     "data": {
      "text/plain": [
       "date             0\n",
       "city             0\n",
       "precipitation    0\n",
       "day_of_year      0\n",
       "dtype: int64"
      ]
     },
     "execution_count": 111,
     "metadata": {},
     "output_type": "execute_result"
    }
   ],
   "source": [
    "df.isna().sum()"
   ]
  },
  {
   "cell_type": "code",
   "execution_count": 112,
   "id": "3d767447-4831-4299-8d1b-366511f1ccd5",
   "metadata": {},
   "outputs": [],
   "source": [
    "#Values imputed for both Seattle and Quebec"
   ]
  },
  {
   "cell_type": "code",
   "execution_count": 116,
   "id": "d40013e0-48cf-4e70-9f5c-b4bbf2dea32b",
   "metadata": {},
   "outputs": [],
   "source": [
    "df.to_csv(\"clean_seattle_quebec_weather.csv\", encoding=\"utf-8-sig\", index=False)"
   ]
  },
  {
   "cell_type": "code",
   "execution_count": null,
   "id": "e453f49d-72ff-4f5d-a0f8-ce4c8eeeaa31",
   "metadata": {},
   "outputs": [],
   "source": []
  }
 ],
 "metadata": {
  "kernelspec": {
   "display_name": "Python [conda env:base] *",
   "language": "python",
   "name": "conda-base-py"
  },
  "language_info": {
   "codemirror_mode": {
    "name": "ipython",
    "version": 3
   },
   "file_extension": ".py",
   "mimetype": "text/x-python",
   "name": "python",
   "nbconvert_exporter": "python",
   "pygments_lexer": "ipython3",
   "version": "3.13.5"
  }
 },
 "nbformat": 4,
 "nbformat_minor": 5
}
